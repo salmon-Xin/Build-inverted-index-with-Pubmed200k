{
  "nbformat": 4,
  "nbformat_minor": 0,
  "metadata": {
    "colab": {
      "provenance": [],
      "include_colab_link": true
    },
    "kernelspec": {
      "name": "python3",
      "display_name": "Python 3"
    },
    "language_info": {
      "name": "python"
    }
  },
  "cells": [
    {
      "cell_type": "markdown",
      "metadata": {
        "id": "view-in-github",
        "colab_type": "text"
      },
      "source": [
        "<a href=\"https://colab.research.google.com/github/salmon-Xin/Build-inverted-index-with-Pubmed200k/blob/main/%E6%96%BCPubmed_200k%E8%B3%87%E6%96%99%E9%9B%86%EF%BC%8C%E5%BB%BA%E7%AB%8B%E5%8F%8D%E5%90%91%E7%B4%A2%E5%BC%95.ipynb\" target=\"_parent\"><img src=\"https://colab.research.google.com/assets/colab-badge.svg\" alt=\"Open In Colab\"/></a>"
      ]
    },
    {
      "cell_type": "code",
      "execution_count": null,
      "metadata": {
        "colab": {
          "base_uri": "https://localhost:8080/"
        },
        "id": "ZCC3CtjXGXRL",
        "outputId": "7ec1543a-d780-4cdb-886c-04b86ca717ab"
      },
      "outputs": [
        {
          "output_type": "stream",
          "name": "stdout",
          "text": [
            "--2023-03-09 09:09:12--  https://www.dropbox.com/s/miyb2awm2esrcpk/pubmed%20220%20train.txt?dl=0\n",
            "Resolving www.dropbox.com (www.dropbox.com)... 162.125.6.18, 2620:100:6019:18::a27d:412\n",
            "Connecting to www.dropbox.com (www.dropbox.com)|162.125.6.18|:443... connected.\n",
            "HTTP request sent, awaiting response... 302 Found\n",
            "Location: /s/raw/miyb2awm2esrcpk/pubmed%20220%20train.txt [following]\n",
            "--2023-03-09 09:09:13--  https://www.dropbox.com/s/raw/miyb2awm2esrcpk/pubmed%20220%20train.txt\n",
            "Reusing existing connection to www.dropbox.com:443.\n",
            "HTTP request sent, awaiting response... 302 Found\n",
            "Location: https://uc2bf5cafebb3b4b3745a95a51d3.dl.dropboxusercontent.com/cd/0/inline/B37bduLvYuTDUXRwa-JTYk3GO7X5tOUXBGExUNjDMzbxnIdsar8K4x0KD4xmS9TMvRGbl3g-4b3JdJe_YyBDzGSFMtP6WIxapAsFEZ8cyPI9qHed3ZYYHFHQD1aOzQlKl8_Jo-0wBSj8eyCp3ptwYVZj63u3BM8wonkDPq5616AUMA/file# [following]\n",
            "--2023-03-09 09:09:14--  https://uc2bf5cafebb3b4b3745a95a51d3.dl.dropboxusercontent.com/cd/0/inline/B37bduLvYuTDUXRwa-JTYk3GO7X5tOUXBGExUNjDMzbxnIdsar8K4x0KD4xmS9TMvRGbl3g-4b3JdJe_YyBDzGSFMtP6WIxapAsFEZ8cyPI9qHed3ZYYHFHQD1aOzQlKl8_Jo-0wBSj8eyCp3ptwYVZj63u3BM8wonkDPq5616AUMA/file\n",
            "Resolving uc2bf5cafebb3b4b3745a95a51d3.dl.dropboxusercontent.com (uc2bf5cafebb3b4b3745a95a51d3.dl.dropboxusercontent.com)... 162.125.6.15, 2620:100:6019:15::a27d:40f\n",
            "Connecting to uc2bf5cafebb3b4b3745a95a51d3.dl.dropboxusercontent.com (uc2bf5cafebb3b4b3745a95a51d3.dl.dropboxusercontent.com)|162.125.6.15|:443... connected.\n",
            "HTTP request sent, awaiting response... 200 OK\n",
            "Length: 357620996 (341M) [text/plain]\n",
            "Saving to: ‘train.txt’\n",
            "\n",
            "train.txt           100%[===================>] 341.05M   113MB/s    in 3.0s    \n",
            "\n",
            "2023-03-09 09:09:17 (113 MB/s) - ‘train.txt’ saved [357620996/357620996]\n",
            "\n"
          ]
        }
      ],
      "source": [
        "!wget https://www.dropbox.com/s/miyb2awm2esrcpk/pubmed%20220%20train.txt?dl=0 -O train.txt"
      ]
    },
    {
      "cell_type": "code",
      "source": [
        "!pip install pyserini"
      ],
      "metadata": {
        "colab": {
          "base_uri": "https://localhost:8080/"
        },
        "id": "fDHLcAB5GruU",
        "outputId": "2d8496d7-00e9-490a-b20c-b8e730ef395f"
      },
      "execution_count": null,
      "outputs": [
        {
          "output_type": "stream",
          "name": "stdout",
          "text": [
            "Looking in indexes: https://pypi.org/simple, https://us-python.pkg.dev/colab-wheels/public/simple/\n",
            "Collecting pyserini\n",
            "  Downloading pyserini-0.20.0-py3-none-any.whl (137.1 MB)\n",
            "\u001b[2K     \u001b[90m━━━━━━━━━━━━━━━━━━━━━━━━━━━━━━━━━━━━━━━\u001b[0m \u001b[32m137.1/137.1 MB\u001b[0m \u001b[31m8.6 MB/s\u001b[0m eta \u001b[36m0:00:00\u001b[0m\n",
            "\u001b[?25hRequirement already satisfied: numpy>=1.18.1 in /usr/local/lib/python3.9/dist-packages (from pyserini) (1.22.4)\n",
            "Collecting nmslib>=2.1.1\n",
            "  Downloading nmslib-2.1.1-cp39-cp39-manylinux2010_x86_64.whl (13.3 MB)\n",
            "\u001b[2K     \u001b[90m━━━━━━━━━━━━━━━━━━━━━━━━━━━━━━━━━━━━━━━━\u001b[0m \u001b[32m13.3/13.3 MB\u001b[0m \u001b[31m85.0 MB/s\u001b[0m eta \u001b[36m0:00:00\u001b[0m\n",
            "\u001b[?25hCollecting onnxruntime>=1.8.1\n",
            "  Downloading onnxruntime-1.14.1-cp39-cp39-manylinux_2_27_x86_64.whl (5.0 MB)\n",
            "\u001b[2K     \u001b[90m━━━━━━━━━━━━━━━━━━━━━━━━━━━━━━━━━━━━━━━━\u001b[0m \u001b[32m5.0/5.0 MB\u001b[0m \u001b[31m81.2 MB/s\u001b[0m eta \u001b[36m0:00:00\u001b[0m\n",
            "\u001b[?25hCollecting pandas>=1.4.0\n",
            "  Downloading pandas-1.5.3-cp39-cp39-manylinux_2_17_x86_64.manylinux2014_x86_64.whl (12.2 MB)\n",
            "\u001b[2K     \u001b[90m━━━━━━━━━━━━━━━━━━━━━━━━━━━━━━━━━━━━━━━\u001b[0m \u001b[32m12.2/12.2 MB\u001b[0m \u001b[31m105.6 MB/s\u001b[0m eta \u001b[36m0:00:00\u001b[0m\n",
            "\u001b[?25hCollecting transformers>=4.6.0\n",
            "  Downloading transformers-4.26.1-py3-none-any.whl (6.3 MB)\n",
            "\u001b[2K     \u001b[90m━━━━━━━━━━━━━━━━━━━━━━━━━━━━━━━━━━━━━━━━\u001b[0m \u001b[32m6.3/6.3 MB\u001b[0m \u001b[31m120.3 MB/s\u001b[0m eta \u001b[36m0:00:00\u001b[0m\n",
            "\u001b[?25hRequirement already satisfied: Cython>=0.29.21 in /usr/local/lib/python3.9/dist-packages (from pyserini) (0.29.33)\n",
            "Requirement already satisfied: spacy>=3.2.1 in /usr/local/lib/python3.9/dist-packages (from pyserini) (3.4.4)\n",
            "Collecting pyjnius>=1.4.0\n",
            "  Downloading pyjnius-1.4.2-cp39-cp39-manylinux_2_17_x86_64.manylinux2014_x86_64.whl (1.5 MB)\n",
            "\u001b[2K     \u001b[90m━━━━━━━━━━━━━━━━━━━━━━━━━━━━━━━━━━━━━━━━\u001b[0m \u001b[32m1.5/1.5 MB\u001b[0m \u001b[31m75.7 MB/s\u001b[0m eta \u001b[36m0:00:00\u001b[0m\n",
            "\u001b[?25hCollecting sentencepiece>=0.1.95\n",
            "  Downloading sentencepiece-0.1.97-cp39-cp39-manylinux_2_17_x86_64.manylinux2014_x86_64.whl (1.3 MB)\n",
            "\u001b[2K     \u001b[90m━━━━━━━━━━━━━━━━━━━━━━━━━━━━━━━━━━━━━━━━\u001b[0m \u001b[32m1.3/1.3 MB\u001b[0m \u001b[31m61.7 MB/s\u001b[0m eta \u001b[36m0:00:00\u001b[0m\n",
            "\u001b[?25hCollecting lightgbm>=3.3.2\n",
            "  Downloading lightgbm-3.3.5-py3-none-manylinux1_x86_64.whl (2.0 MB)\n",
            "\u001b[2K     \u001b[90m━━━━━━━━━━━━━━━━━━━━━━━━━━━━━━━━━━━━━━━━\u001b[0m \u001b[32m2.0/2.0 MB\u001b[0m \u001b[31m94.2 MB/s\u001b[0m eta \u001b[36m0:00:00\u001b[0m\n",
            "\u001b[?25hRequirement already satisfied: tqdm in /usr/local/lib/python3.9/dist-packages (from pyserini) (4.65.0)\n",
            "Requirement already satisfied: scikit-learn>=0.22.1 in /usr/local/lib/python3.9/dist-packages (from pyserini) (1.2.1)\n",
            "Requirement already satisfied: scipy>=1.4.1 in /usr/local/lib/python3.9/dist-packages (from pyserini) (1.10.1)\n",
            "Requirement already satisfied: wheel in /usr/local/lib/python3.9/dist-packages (from lightgbm>=3.3.2->pyserini) (0.38.4)\n",
            "Collecting pybind11<2.6.2\n",
            "  Downloading pybind11-2.6.1-py2.py3-none-any.whl (188 kB)\n",
            "\u001b[2K     \u001b[90m━━━━━━━━━━━━━━━━━━━━━━━━━━━━━━━━━━━━━━\u001b[0m \u001b[32m188.5/188.5 KB\u001b[0m \u001b[31m22.1 MB/s\u001b[0m eta \u001b[36m0:00:00\u001b[0m\n",
            "\u001b[?25hRequirement already satisfied: psutil in /usr/local/lib/python3.9/dist-packages (from nmslib>=2.1.1->pyserini) (5.4.8)\n",
            "Collecting coloredlogs\n",
            "  Downloading coloredlogs-15.0.1-py2.py3-none-any.whl (46 kB)\n",
            "\u001b[2K     \u001b[90m━━━━━━━━━━━━━━━━━━━━━━━━━━━━━━━━━━━━━━━━\u001b[0m \u001b[32m46.0/46.0 KB\u001b[0m \u001b[31m4.3 MB/s\u001b[0m eta \u001b[36m0:00:00\u001b[0m\n",
            "\u001b[?25hRequirement already satisfied: packaging in /usr/local/lib/python3.9/dist-packages (from onnxruntime>=1.8.1->pyserini) (23.0)\n",
            "Requirement already satisfied: protobuf in /usr/local/lib/python3.9/dist-packages (from onnxruntime>=1.8.1->pyserini) (3.19.6)\n",
            "Requirement already satisfied: flatbuffers in /usr/local/lib/python3.9/dist-packages (from onnxruntime>=1.8.1->pyserini) (23.3.3)\n",
            "Requirement already satisfied: sympy in /usr/local/lib/python3.9/dist-packages (from onnxruntime>=1.8.1->pyserini) (1.7.1)\n",
            "Requirement already satisfied: pytz>=2020.1 in /usr/local/lib/python3.9/dist-packages (from pandas>=1.4.0->pyserini) (2022.7.1)\n",
            "Requirement already satisfied: python-dateutil>=2.8.1 in /usr/local/lib/python3.9/dist-packages (from pandas>=1.4.0->pyserini) (2.8.2)\n",
            "Requirement already satisfied: six>=1.7.0 in /usr/local/lib/python3.9/dist-packages (from pyjnius>=1.4.0->pyserini) (1.15.0)\n",
            "Requirement already satisfied: joblib>=1.1.1 in /usr/local/lib/python3.9/dist-packages (from scikit-learn>=0.22.1->pyserini) (1.2.0)\n",
            "Requirement already satisfied: threadpoolctl>=2.0.0 in /usr/local/lib/python3.9/dist-packages (from scikit-learn>=0.22.1->pyserini) (3.1.0)\n",
            "Requirement already satisfied: setuptools in /usr/local/lib/python3.9/dist-packages (from spacy>=3.2.1->pyserini) (57.4.0)\n",
            "Requirement already satisfied: thinc<8.2.0,>=8.1.0 in /usr/local/lib/python3.9/dist-packages (from spacy>=3.2.1->pyserini) (8.1.8)\n",
            "Requirement already satisfied: cymem<2.1.0,>=2.0.2 in /usr/local/lib/python3.9/dist-packages (from spacy>=3.2.1->pyserini) (2.0.7)\n",
            "Requirement already satisfied: pathy>=0.3.5 in /usr/local/lib/python3.9/dist-packages (from spacy>=3.2.1->pyserini) (0.10.1)\n",
            "Requirement already satisfied: typer<0.8.0,>=0.3.0 in /usr/local/lib/python3.9/dist-packages (from spacy>=3.2.1->pyserini) (0.7.0)\n",
            "Requirement already satisfied: murmurhash<1.1.0,>=0.28.0 in /usr/local/lib/python3.9/dist-packages (from spacy>=3.2.1->pyserini) (1.0.9)\n",
            "Requirement already satisfied: jinja2 in /usr/local/lib/python3.9/dist-packages (from spacy>=3.2.1->pyserini) (3.1.2)\n",
            "Requirement already satisfied: srsly<3.0.0,>=2.4.3 in /usr/local/lib/python3.9/dist-packages (from spacy>=3.2.1->pyserini) (2.4.6)\n",
            "Requirement already satisfied: wasabi<1.1.0,>=0.9.1 in /usr/local/lib/python3.9/dist-packages (from spacy>=3.2.1->pyserini) (0.10.1)\n",
            "Requirement already satisfied: pydantic!=1.8,!=1.8.1,<1.11.0,>=1.7.4 in /usr/local/lib/python3.9/dist-packages (from spacy>=3.2.1->pyserini) (1.10.5)\n",
            "Requirement already satisfied: langcodes<4.0.0,>=3.2.0 in /usr/local/lib/python3.9/dist-packages (from spacy>=3.2.1->pyserini) (3.3.0)\n",
            "Requirement already satisfied: spacy-loggers<2.0.0,>=1.0.0 in /usr/local/lib/python3.9/dist-packages (from spacy>=3.2.1->pyserini) (1.0.4)\n",
            "Requirement already satisfied: smart-open<7.0.0,>=5.2.1 in /usr/local/lib/python3.9/dist-packages (from spacy>=3.2.1->pyserini) (6.3.0)\n",
            "Requirement already satisfied: spacy-legacy<3.1.0,>=3.0.10 in /usr/local/lib/python3.9/dist-packages (from spacy>=3.2.1->pyserini) (3.0.12)\n",
            "Requirement already satisfied: catalogue<2.1.0,>=2.0.6 in /usr/local/lib/python3.9/dist-packages (from spacy>=3.2.1->pyserini) (2.0.8)\n",
            "Requirement already satisfied: requests<3.0.0,>=2.13.0 in /usr/local/lib/python3.9/dist-packages (from spacy>=3.2.1->pyserini) (2.25.1)\n",
            "Requirement already satisfied: preshed<3.1.0,>=3.0.2 in /usr/local/lib/python3.9/dist-packages (from spacy>=3.2.1->pyserini) (3.0.8)\n",
            "Requirement already satisfied: pyyaml>=5.1 in /usr/local/lib/python3.9/dist-packages (from transformers>=4.6.0->pyserini) (6.0)\n",
            "Requirement already satisfied: regex!=2019.12.17 in /usr/local/lib/python3.9/dist-packages (from transformers>=4.6.0->pyserini) (2022.6.2)\n",
            "Requirement already satisfied: filelock in /usr/local/lib/python3.9/dist-packages (from transformers>=4.6.0->pyserini) (3.9.0)\n",
            "Collecting tokenizers!=0.11.3,<0.14,>=0.11.1\n",
            "  Downloading tokenizers-0.13.2-cp39-cp39-manylinux_2_17_x86_64.manylinux2014_x86_64.whl (7.6 MB)\n",
            "\u001b[2K     \u001b[90m━━━━━━━━━━━━━━━━━━━━━━━━━━━━━━━━━━━━━━━━\u001b[0m \u001b[32m7.6/7.6 MB\u001b[0m \u001b[31m80.8 MB/s\u001b[0m eta \u001b[36m0:00:00\u001b[0m\n",
            "\u001b[?25hCollecting huggingface-hub<1.0,>=0.11.0\n",
            "  Downloading huggingface_hub-0.13.0-py3-none-any.whl (199 kB)\n",
            "\u001b[2K     \u001b[90m━━━━━━━━━━━━━━━━━━━━━━━━━━━━━━━━━━━━━━\u001b[0m \u001b[32m199.1/199.1 KB\u001b[0m \u001b[31m23.6 MB/s\u001b[0m eta \u001b[36m0:00:00\u001b[0m\n",
            "\u001b[?25hRequirement already satisfied: typing-extensions>=3.7.4.3 in /usr/local/lib/python3.9/dist-packages (from huggingface-hub<1.0,>=0.11.0->transformers>=4.6.0->pyserini) (4.5.0)\n",
            "Requirement already satisfied: certifi>=2017.4.17 in /usr/local/lib/python3.9/dist-packages (from requests<3.0.0,>=2.13.0->spacy>=3.2.1->pyserini) (2022.12.7)\n",
            "Requirement already satisfied: idna<3,>=2.5 in /usr/local/lib/python3.9/dist-packages (from requests<3.0.0,>=2.13.0->spacy>=3.2.1->pyserini) (2.10)\n",
            "Requirement already satisfied: urllib3<1.27,>=1.21.1 in /usr/local/lib/python3.9/dist-packages (from requests<3.0.0,>=2.13.0->spacy>=3.2.1->pyserini) (1.26.14)\n",
            "Requirement already satisfied: chardet<5,>=3.0.2 in /usr/local/lib/python3.9/dist-packages (from requests<3.0.0,>=2.13.0->spacy>=3.2.1->pyserini) (4.0.0)\n",
            "Requirement already satisfied: confection<1.0.0,>=0.0.1 in /usr/local/lib/python3.9/dist-packages (from thinc<8.2.0,>=8.1.0->spacy>=3.2.1->pyserini) (0.0.4)\n",
            "Requirement already satisfied: blis<0.8.0,>=0.7.8 in /usr/local/lib/python3.9/dist-packages (from thinc<8.2.0,>=8.1.0->spacy>=3.2.1->pyserini) (0.7.9)\n",
            "Requirement already satisfied: click<9.0.0,>=7.1.1 in /usr/local/lib/python3.9/dist-packages (from typer<0.8.0,>=0.3.0->spacy>=3.2.1->pyserini) (8.1.3)\n",
            "Collecting humanfriendly>=9.1\n",
            "  Downloading humanfriendly-10.0-py2.py3-none-any.whl (86 kB)\n",
            "\u001b[2K     \u001b[90m━━━━━━━━━━━━━━━━━━━━━━━━━━━━━━━━━━━━━━━━\u001b[0m \u001b[32m86.8/86.8 KB\u001b[0m \u001b[31m10.8 MB/s\u001b[0m eta \u001b[36m0:00:00\u001b[0m\n",
            "\u001b[?25hRequirement already satisfied: MarkupSafe>=2.0 in /usr/local/lib/python3.9/dist-packages (from jinja2->spacy>=3.2.1->pyserini) (2.1.2)\n",
            "Requirement already satisfied: mpmath>=0.19 in /usr/local/lib/python3.9/dist-packages (from sympy->onnxruntime>=1.8.1->pyserini) (1.2.1)\n",
            "Installing collected packages: tokenizers, sentencepiece, pyjnius, pybind11, humanfriendly, pandas, nmslib, huggingface-hub, coloredlogs, transformers, onnxruntime, lightgbm, pyserini\n",
            "  Attempting uninstall: pandas\n",
            "    Found existing installation: pandas 1.3.5\n",
            "    Uninstalling pandas-1.3.5:\n",
            "      Successfully uninstalled pandas-1.3.5\n",
            "  Attempting uninstall: lightgbm\n",
            "    Found existing installation: lightgbm 2.2.3\n",
            "    Uninstalling lightgbm-2.2.3:\n",
            "      Successfully uninstalled lightgbm-2.2.3\n",
            "Successfully installed coloredlogs-15.0.1 huggingface-hub-0.13.0 humanfriendly-10.0 lightgbm-3.3.5 nmslib-2.1.1 onnxruntime-1.14.1 pandas-1.5.3 pybind11-2.6.1 pyjnius-1.4.2 pyserini-0.20.0 sentencepiece-0.1.97 tokenizers-0.13.2 transformers-4.26.1\n"
          ]
        }
      ]
    },
    {
      "cell_type": "code",
      "source": [
        "!pip install pip install faiss-gpu"
      ],
      "metadata": {
        "colab": {
          "base_uri": "https://localhost:8080/"
        },
        "id": "nml4lWROHOl1",
        "outputId": "beb821f5-44ef-4d9f-f6bb-86b4bdae4561"
      },
      "execution_count": null,
      "outputs": [
        {
          "output_type": "stream",
          "name": "stdout",
          "text": [
            "Looking in indexes: https://pypi.org/simple, https://us-python.pkg.dev/colab-wheels/public/simple/\n",
            "Requirement already satisfied: pip in /usr/local/lib/python3.9/dist-packages (22.0.4)\n",
            "Collecting install\n",
            "  Downloading install-1.3.5-py3-none-any.whl (3.2 kB)\n",
            "Collecting faiss-gpu\n",
            "  Downloading faiss_gpu-1.7.2-cp39-cp39-manylinux_2_17_x86_64.manylinux2014_x86_64.whl (85.5 MB)\n",
            "\u001b[2K     \u001b[90m━━━━━━━━━━━━━━━━━━━━━━━━━━━━━━━━━━━━━━━━\u001b[0m \u001b[32m85.5/85.5 MB\u001b[0m \u001b[31m11.1 MB/s\u001b[0m eta \u001b[36m0:00:00\u001b[0m\n",
            "\u001b[?25hInstalling collected packages: faiss-gpu, install\n",
            "Successfully installed faiss-gpu-1.7.2 install-1.3.5\n"
          ]
        }
      ]
    },
    {
      "cell_type": "code",
      "source": [
        "!head -n 20 train.txt "
      ],
      "metadata": {
        "colab": {
          "base_uri": "https://localhost:8080/"
        },
        "id": "1xBCDE4TJUqs",
        "outputId": "e3f81777-59fb-42e3-b371-88287f5fc199"
      },
      "execution_count": null,
      "outputs": [
        {
          "output_type": "stream",
          "name": "stdout",
          "text": [
            "###24491034\n",
            "BACKGROUND\tThe emergence of HIV as a chronic condition means that people living with HIV are required to take more responsibility for the self-management of their condition , including making physical , emotional and social adjustments .\n",
            "BACKGROUND\tThis paper describes the design and evaluation of Positive Outlook , an online program aiming to enhance the self-management skills of gay men living with HIV .\n",
            "METHODS\tThis study is designed as a randomised controlled trial in which men living with HIV in Australia will be assigned to either an intervention group or usual care control group .\n",
            "METHODS\tThe intervention group will participate in the online group program ` Positive Outlook ' .\n",
            "METHODS\tThe program is based on self-efficacy theory and uses a self-management approach to enhance skills , confidence and abilities to manage the psychosocial issues associated with HIV in daily life .\n",
            "METHODS\tParticipants will access the program for a minimum of 90 minutes per week over seven weeks .\n",
            "METHODS\tPrimary outcomes are domain specific self-efficacy , HIV related quality of life , and outcomes of health education .\n",
            "METHODS\tSecondary outcomes include : depression , anxiety and stress ; general health and quality of life ; adjustment to HIV ; and social support .\n",
            "METHODS\tData collection will take place at baseline , completion of the intervention ( or eight weeks post randomisation ) and at 12 week follow-up .\n",
            "CONCLUSIONS\tResults of the Positive Outlook study will provide information regarding the effectiveness of online group programs improving health related outcomes for men living with HIV .\n",
            "BACKGROUND\tACTRN12612000642886 .\n",
            "\n",
            "###20497432\n",
            "BACKGROUND\tThe aim of this study was to evaluate the efficacy , safety and complications of orbital steroid injection versus oral steroid therapy in the management of thyroid-related ophthalmopathy .\n",
            "METHODS\tA total of 29 patients suffering from thyroid ophthalmopathy were included in this study .\n",
            "METHODS\tPatients were randomized into two groups : group I included 15 patients treated with oral prednisolone and group II included 14 patients treated with peribulbar triamcinolone orbital injection .\n",
            "METHODS\tOnly 12 patients in both groups ( 16 female and 8 male ) completed the study .\n",
            "RESULTS\tBoth groups showed improvement in symptoms and in clinical evidence of inflammation with improvement of eye movement and proptosis in most cases .\n",
            "RESULTS\tMean exophthalmometry value before treatment was 22.6 1.98 mm that decreased to 18.6 0.996 mm in group I , compared with 23 1.86 mm that decreased to 19.08 1.16 mm in group II .\n"
          ]
        }
      ]
    },
    {
      "cell_type": "code",
      "source": [
        "!tail -n 30 train.txt "
      ],
      "metadata": {
        "colab": {
          "base_uri": "https://localhost:8080/"
        },
        "id": "sVulCLuqxMfM",
        "outputId": "d07f5f21-eca5-453e-9633-6266c811ef02"
      },
      "execution_count": null,
      "outputs": [
        {
          "output_type": "stream",
          "name": "stdout",
          "text": [
            "RESULTS\tIn the second study , results showed no difference between preloads on ad libitum intake .\n",
            "RESULTS\tTotal intake was significantly higher after caloric preloads compared to water control ( P < 0.05 ) .\n",
            "CONCLUSIONS\tCasein and pea protein showed a stronger effect on food intake compared to whey when consumed as a preload .\n",
            "CONCLUSIONS\tHowever , consuming the protein preload as a starter of a meal decreased its impact on food intake as opposed to consuming it 30 min before the meal .\n",
            "\n",
            "###25367150\n",
            "BACKGROUND\tIrregularity measures have been suggested as risk indicators in patients with atrial fibrillation ( AF ) ; however , it is not known to what extent they are affected by commonly used rate-control drugs .\n",
            "BACKGROUND\tWe aimed at evaluating the effect of metoprolol , carvedilol , diltiazem , and verapamil on the variability and irregularity of the ventricular response in patients with permanent AF .\n",
            "RESULTS\tSixty patients with permanent AF were part of an investigator-blind cross-over study , comparing 4 rate-control drugs ( diltiazem , verapamil , metoprolol , and carvedilol ) .\n",
            "RESULTS\tWe analyzed five 20-minute segments per patient : baseline and the 4 drug regimens .\n",
            "RESULTS\tOn every segment , heart rate ( HR ) variability and irregularity of RR series were computed .\n",
            "RESULTS\tThe variability was assessed as standard deviation , pNN20 , pNN50 , pNN80 , and rMSSD .\n",
            "RESULTS\tThe irregularity was assessed by regularity index , approximate ( ApEn ) , and sample entropy .\n",
            "RESULTS\tA significantly lower HR was obtained with all drugs , the HR was lowest using the calcium channel blockers .\n",
            "RESULTS\tAll drugs increased the variability of ventricular response in respect to baseline ( as an example , rMSSD : baseline 171 47 milliseconds , carvedilol 229 58 milliseconds ; P < 0.05 vs. baseline , metoprolol 226 66 milliseconds ; P < 0.05 vs. baseline , verapamil 228 84 ; P < 0.05 vs. baseline , diltiazem 256 87 milliseconds ; P < 0.05 vs. baseline and all other drugs ) .\n",
            "RESULTS\tOnly - blockers significantly increased the irregularity of the RR series ( as an example , ApEn : baseline 1.86 0.13 , carvedilol 1.92 0.09 ; P < 0.05 vs. baseline , metoprolol 1.93 0.08 ; P < 0.05 vs. baseline , verapamil 1.86 0.22 ns , diltiazem 1.88 0.16 ns ) .\n",
            "CONCLUSIONS\tModification of AV node conduction by rate-control drugs increase RR variability , while only - blockers affect irregularity .\n",
            "\n",
            "###16042514\n",
            "BACKGROUND\tInternal medicine residents must be competent in Advanced Cardiac Life Support ( ACLS ) for board certification .\n",
            "OBJECTIVE\tThe purpose was to use a medical simulator to assess baseline proficiency in ACLS and determine the impact of an intervention on skill development .\n",
            "METHODS\tThis was a randomized trial with wait-list controls .\n",
            "METHODS\tAfter baseline evaluation in all residents , the intervention group received 4 education sessions using a medical simulator .\n",
            "METHODS\tAll residents were then retested .\n",
            "METHODS\tAfter crossover , the wait-list group received the intervention , and residents were tested again .\n",
            "METHODS\tPerformance was assessed by comparison to American Heart Association guidelines for treatment of ACLS conditions with interrater and internal consistency reliability estimates .\n",
            "RESULTS\tPerformance improved significantly after simulator training .\n",
            "RESULTS\tNo improvement was detected as a function of clinical experience alone .\n",
            "RESULTS\tThe educational program was rated highly .\n",
            "\n"
          ]
        }
      ]
    },
    {
      "cell_type": "code",
      "source": [
        "from google.colab import drive\n",
        "drive.mount('/content/drive')"
      ],
      "metadata": {
        "colab": {
          "base_uri": "https://localhost:8080/"
        },
        "id": "S4ouNGqTokkv",
        "outputId": "8e93616b-b067-48cf-fdfb-aa28f76c01d7"
      },
      "execution_count": null,
      "outputs": [
        {
          "output_type": "stream",
          "name": "stdout",
          "text": [
            "Mounted at /content/drive\n"
          ]
        }
      ]
    },
    {
      "cell_type": "code",
      "source": [
        "!ls"
      ],
      "metadata": {
        "colab": {
          "base_uri": "https://localhost:8080/"
        },
        "id": "dM_3lBp1oqYG",
        "outputId": "952e845c-2a8c-4628-f6f9-c21001a006a9"
      },
      "execution_count": null,
      "outputs": [
        {
          "output_type": "stream",
          "name": "stdout",
          "text": [
            "drive  sample_data  train.txt\n"
          ]
        }
      ]
    },
    {
      "cell_type": "code",
      "source": [
        "from jnius.reflect import JavaField\n",
        "import json\n",
        "\n",
        "str1=[]\n",
        "with open(\"train.txt\", \"r\") as f:    #開啟檔案\n",
        "  id=\"\"\n",
        "  context=\"\"\n",
        "  for line in f.readlines():    \n",
        "    if line[0] == \"#\":\n",
        "      if n!= 0:\n",
        "        str1.append({\"id\":id,\"contents\":context})\n",
        "        context=\"\"\n",
        "      id=line[3:].replace(\"\\n\",\"\")\n",
        "      n+=1\n",
        "    else:\n",
        "      context+=line.replace('BACKGROUND\\t','').replace('OBJECTIVE\\t','').replace('METHODS\\t','').replace('RESULTS\\t','').replace('CONCLUSIONS\\t','').replace('\\n','')\n",
        "  str1.append({\"id\":id,\"contents\":context})\n",
        "\n",
        "with open('./tests/data.json', 'w') as f:\n",
        "  j = json.dump(str1,f, indent=2)\n"
      ],
      "metadata": {
        "id": "soX_6dlSLxy2"
      },
      "execution_count": null,
      "outputs": []
    },
    {
      "cell_type": "code",
      "source": [
        "with open(\"./tests/data.json\", \"r\") as f:\n",
        "  data =json.load(f)\n",
        "  print(len(data))\n",
        "  print(data[-1])"
      ],
      "metadata": {
        "colab": {
          "base_uri": "https://localhost:8080/"
        },
        "id": "govbfOtxNaDb",
        "outputId": "d831588f-bd80-4a5f-853c-bd2b6e8db1b8"
      },
      "execution_count": null,
      "outputs": [
        {
          "output_type": "stream",
          "name": "stdout",
          "text": [
            "190655\n",
            "{'id': '16042514', 'contents': 'Internal medicine residents must be competent in Advanced Cardiac Life Support ( ACLS ) for board certification .The purpose was to use a medical simulator to assess baseline proficiency in ACLS and determine the impact of an intervention on skill development .This was a randomized trial with wait-list controls .After baseline evaluation in all residents , the intervention group received 4 education sessions using a medical simulator .All residents were then retested .After crossover , the wait-list group received the intervention , and residents were tested again .Performance was assessed by comparison to American Heart Association guidelines for treatment of ACLS conditions with interrater and internal consistency reliability estimates .Performance improved significantly after simulator training .No improvement was detected as a function of clinical experience alone .The educational program was rated highly .'}\n"
          ]
        }
      ]
    },
    {
      "cell_type": "code",
      "source": [
        "!head -n 10 ./tests/data.json"
      ],
      "metadata": {
        "colab": {
          "base_uri": "https://localhost:8080/"
        },
        "id": "c3hebxWVhpNo",
        "outputId": "44080fc5-db2a-4404-aa1e-6bf13697ed94"
      },
      "execution_count": null,
      "outputs": [
        {
          "output_type": "stream",
          "name": "stdout",
          "text": [
            "[\n",
            "  {\n",
            "    \"id\": \"\",\n",
            "    \"contents\": \"\"\n",
            "  },\n",
            "  {\n",
            "    \"id\": \"24491034\",\n",
            "    \"contents\": \"The emergence of HIV as a chronic condition means that people living with HIV are required to take more responsibility for the self-management of their condition , including making physical , emotional and social adjustments .This paper describes the design and evaluation of Positive Outlook , an online program aiming to enhance the self-management skills of gay men living with HIV .This study is designed as a randomised controlled trial in which men living with HIV in Australia will be assigned to either an intervention group or usual care control group .The intervention group will participate in the online group program ` Positive Outlook ' .The program is based on self-efficacy theory and uses a self-management approach to enhance skills , confidence and abilities to manage the psychosocial issues associated with HIV in daily life .Participants will access the program for a minimum of 90 minutes per week over seven weeks .Primary outcomes are domain specific self-efficacy , HIV related quality of life , and outcomes of health education .Secondary outcomes include : depression , anxiety and stress ; general health and quality of life ; adjustment to HIV ; and social support .Data collection will take place at baseline , completion of the intervention ( or eight weeks post randomisation ) and at 12 week follow-up .Results of the Positive Outlook study will provide information regarding the effectiveness of online group programs improving health related outcomes for men living with HIV .ACTRN12612000642886 .\"\n",
            "  },\n",
            "  {\n"
          ]
        }
      ]
    },
    {
      "cell_type": "code",
      "source": [
        "!tail -n 10 ./tests/data.json"
      ],
      "metadata": {
        "colab": {
          "base_uri": "https://localhost:8080/"
        },
        "id": "zWYxGZxQ2HcL",
        "outputId": "721a5bd2-986e-4e1a-b055-ec598e425131"
      },
      "execution_count": null,
      "outputs": [
        {
          "output_type": "stream",
          "name": "stdout",
          "text": [
            "  },\n",
            "  {\n",
            "    \"id\": \"25367150\",\n",
            "    \"contents\": \"Irregularity measures have been suggested as risk indicators in patients with atrial fibrillation ( AF ) ; however , it is not known to what extent they are affected by commonly used rate-control drugs .We aimed at evaluating the effect of metoprolol , carvedilol , diltiazem , and verapamil on the variability and irregularity of the ventricular response in patients with permanent AF .Sixty patients with permanent AF were part of an investigator-blind cross-over study , comparing 4 rate-control drugs ( diltiazem , verapamil , metoprolol , and carvedilol ) .We analyzed five 20-minute segments per patient : baseline and the 4 drug regimens .On every segment , heart rate ( HR ) variability and irregularity of RR series were computed .The variability was assessed as standard deviation , pNN20 , pNN50 , pNN80 , and rMSSD .The irregularity was assessed by regularity index , approximate ( ApEn ) , and sample entropy .A significantly lower HR was obtained with all drugs , the HR was lowest using the calcium channel blockers .All drugs increased the variability of ventricular response in respect to baseline ( as an example , rMSSD : baseline 171 47 milliseconds , carvedilol 229 58 milliseconds ; P < 0.05 vs. baseline , metoprolol 226 66 milliseconds ; P < 0.05 vs. baseline , verapamil 228 84 ; P < 0.05 vs. baseline , diltiazem 256 87 milliseconds ; P < 0.05 vs. baseline and all other drugs ) .Only - blockers significantly increased the irregularity of the RR series ( as an example , ApEn : baseline 1.86 0.13 , carvedilol 1.92 0.09 ; P < 0.05 vs. baseline , metoprolol 1.93 0.08 ; P < 0.05 vs. baseline , verapamil 1.86 0.22 ns , diltiazem 1.88 0.16 ns ) .Modification of AV node conduction by rate-control drugs increase RR variability , while only - blockers affect irregularity .\"\n",
            "  },\n",
            "  {\n",
            "    \"id\": \"16042514\",\n",
            "    \"contents\": \"Internal medicine residents must be competent in Advanced Cardiac Life Support ( ACLS ) for board certification .The purpose was to use a medical simulator to assess baseline proficiency in ACLS and determine the impact of an intervention on skill development .This was a randomized trial with wait-list controls .After baseline evaluation in all residents , the intervention group received 4 education sessions using a medical simulator .All residents were then retested .After crossover , the wait-list group received the intervention , and residents were tested again .Performance was assessed by comparison to American Heart Association guidelines for treatment of ACLS conditions with interrater and internal consistency reliability estimates .Performance improved significantly after simulator training .No improvement was detected as a function of clinical experience alone .The educational program was rated highly .\"\n",
            "  }\n",
            "]"
          ]
        }
      ]
    },
    {
      "cell_type": "code",
      "source": [
        "!ls tests/"
      ],
      "metadata": {
        "colab": {
          "base_uri": "https://localhost:8080/"
        },
        "id": "LyPVo_zReLh8",
        "outputId": "64e04194-a077-4dfd-b471-eef25d084e7c"
      },
      "execution_count": null,
      "outputs": [
        {
          "output_type": "stream",
          "name": "stdout",
          "text": [
            "data.json\n"
          ]
        }
      ]
    },
    {
      "cell_type": "code",
      "source": [
        "!python -m pyserini.index.lucene \\\n",
        "  --collection JsonCollection \\\n",
        "  --input tests \\\n",
        "  --index indexes/sample_collection_jsonl \\\n",
        "  --generator DefaultLuceneDocumentGenerator \\\n",
        "  --threads 1 \\\n",
        "  --storePositions --storeDocvectors --storeRaw"
      ],
      "metadata": {
        "colab": {
          "base_uri": "https://localhost:8080/"
        },
        "id": "hhtE75UASg9u",
        "outputId": "41796016-87c3-4365-a1eb-39f929b187ba"
      },
      "execution_count": null,
      "outputs": [
        {
          "output_type": "stream",
          "name": "stdout",
          "text": [
            "WARNING: sun.reflect.Reflection.getCallerClass is not supported. This will impact performance.\n",
            "2023-03-09 10:09:16,602 INFO  [main] index.IndexCollection (IndexCollection.java:391) - Setting log level to INFO\n",
            "2023-03-09 10:09:16,604 INFO  [main] index.IndexCollection (IndexCollection.java:394) - Starting indexer...\n",
            "2023-03-09 10:09:16,604 INFO  [main] index.IndexCollection (IndexCollection.java:395) - ============ Loading Parameters ============\n",
            "2023-03-09 10:09:16,605 INFO  [main] index.IndexCollection (IndexCollection.java:396) - DocumentCollection path: tests\n",
            "2023-03-09 10:09:16,606 INFO  [main] index.IndexCollection (IndexCollection.java:397) - CollectionClass: JsonCollection\n",
            "2023-03-09 10:09:16,607 INFO  [main] index.IndexCollection (IndexCollection.java:398) - Generator: DefaultLuceneDocumentGenerator\n",
            "2023-03-09 10:09:16,607 INFO  [main] index.IndexCollection (IndexCollection.java:399) - Threads: 1\n",
            "2023-03-09 10:09:16,607 INFO  [main] index.IndexCollection (IndexCollection.java:400) - Language: en\n",
            "2023-03-09 10:09:16,608 INFO  [main] index.IndexCollection (IndexCollection.java:401) - Stemmer: porter\n",
            "2023-03-09 10:09:16,608 INFO  [main] index.IndexCollection (IndexCollection.java:402) - Keep stopwords? false\n",
            "2023-03-09 10:09:16,608 INFO  [main] index.IndexCollection (IndexCollection.java:403) - Stopwords: null\n",
            "2023-03-09 10:09:16,609 INFO  [main] index.IndexCollection (IndexCollection.java:404) - Store positions? true\n",
            "2023-03-09 10:09:16,610 INFO  [main] index.IndexCollection (IndexCollection.java:405) - Store docvectors? true\n",
            "2023-03-09 10:09:16,611 INFO  [main] index.IndexCollection (IndexCollection.java:406) - Store document \"contents\" field? false\n",
            "2023-03-09 10:09:16,611 INFO  [main] index.IndexCollection (IndexCollection.java:407) - Store document \"raw\" field? true\n",
            "2023-03-09 10:09:16,613 INFO  [main] index.IndexCollection (IndexCollection.java:408) - Additional fields to index: []\n",
            "2023-03-09 10:09:16,613 INFO  [main] index.IndexCollection (IndexCollection.java:409) - Optimize (merge segments)? false\n",
            "2023-03-09 10:09:16,614 INFO  [main] index.IndexCollection (IndexCollection.java:410) - Whitelist: null\n",
            "2023-03-09 10:09:16,614 INFO  [main] index.IndexCollection (IndexCollection.java:411) - Pretokenized?: false\n",
            "2023-03-09 10:09:16,615 INFO  [main] index.IndexCollection (IndexCollection.java:412) - Index path: indexes/sample_collection_jsonl\n",
            "2023-03-09 10:09:16,617 INFO  [main] index.IndexCollection (IndexCollection.java:450) - ============ Indexing Collection ============\n",
            "2023-03-09 10:09:17,313 INFO  [main] index.IndexCollection (IndexCollection.java:565) - Thread pool with 1 threads initialized.\n",
            "2023-03-09 10:09:17,313 INFO  [main] index.IndexCollection (IndexCollection.java:567) - Initializing collection in tests\n",
            "2023-03-09 10:09:17,316 INFO  [main] index.IndexCollection (IndexCollection.java:576) - 1 file found\n",
            "2023-03-09 10:09:17,316 INFO  [main] index.IndexCollection (IndexCollection.java:577) - Starting to index...\n",
            "2023-03-09 10:10:07,366 DEBUG [pool-2-thread-1] index.IndexCollection$LocalIndexerThread (IndexCollection.java:356) - tests/data.json: 190654 docs added.\n",
            "2023-03-09 10:10:12,684 INFO  [main] index.IndexCollection (IndexCollection.java:633) - Indexing Complete! 190,654 documents indexed\n",
            "2023-03-09 10:10:12,684 INFO  [main] index.IndexCollection (IndexCollection.java:634) - ============ Final Counter Values ============\n",
            "2023-03-09 10:10:12,685 INFO  [main] index.IndexCollection (IndexCollection.java:635) - indexed:          190,654\n",
            "2023-03-09 10:10:12,686 INFO  [main] index.IndexCollection (IndexCollection.java:636) - unindexable:            0\n",
            "2023-03-09 10:10:12,686 INFO  [main] index.IndexCollection (IndexCollection.java:637) - empty:                  1\n",
            "2023-03-09 10:10:12,686 INFO  [main] index.IndexCollection (IndexCollection.java:638) - skipped:                0\n",
            "2023-03-09 10:10:12,687 INFO  [main] index.IndexCollection (IndexCollection.java:639) - errors:                 0\n",
            "2023-03-09 10:10:12,706 INFO  [main] index.IndexCollection (IndexCollection.java:642) - Total 190,654 documents indexed in 00:00:56\n"
          ]
        }
      ]
    },
    {
      "cell_type": "code",
      "source": [
        "from pyserini.search.lucene import LuceneSearcher\n",
        "import time\n",
        "\n",
        "start = time.time()\n",
        "searcher = LuceneSearcher('indexes/sample_collection_jsonl')\n",
        "hits = searcher.search('cancer')\n",
        "\n",
        "for i in range(len(hits)):\n",
        "    print(f'{i+1:2} {hits[i].docid:4} {hits[i].score:.4f}')\n",
        "    print(hits[i].raw)\n",
        "\n",
        "end = time.time()\n",
        "print(\"time for retreive by inverted index:\",end - start)"
      ],
      "metadata": {
        "colab": {
          "base_uri": "https://localhost:8080/"
        },
        "id": "USlRXG4RRucX",
        "outputId": "8e15d88b-3ff6-43b0-9864-bc388e487f0f"
      },
      "execution_count": null,
      "outputs": [
        {
          "output_type": "stream",
          "name": "stdout",
          "text": [
            " 1 24747090 2.5092\n",
            "{\n",
            "  \"id\" : \"24747090\",\n",
            "  \"contents\" : \"We examine the role of body mass index in the assessment of prostate cancer risk .A total of 3,258 participants who underwent biopsy ( including 1,902 men with a diagnosis of prostate cancer ) were identified from the Selenium and Vitamin E Cancer Prevention Trial .The associations of body mass index with prostate cancer and high grade prostate cancer were examined using logistic regression , adjusting for age , race , body mass index adjusted prostate specific antigen , digital rectal examination , family history of prostate cancer , biopsy history , prostate specific antigen velocity , and time between study entry and the last biopsy .The prediction models were compared with our previously developed body mass index adjusted Prostate Cancer Prevention Trial prostate cancer risk calculator .Of the study subjects 49.1 % were overweight and 29.3 % were obese .After adjustment , among men without a known family history of prostate cancer , increased body mass index was not associated with a higher risk of prostate cancer ( per one-unit increase in logBMI OR 0.83 , p = 0.54 ) but was significantly associated with a higher risk of high grade prostate cancer ( ieGleason score 7 or greater prostate cancer ) ( OR 2.31 , p = 0.03 ) .For men with a known family history of prostate cancer the risks of prostate cancer and high grade prostate cancer increased rapidly as body mass index increased ( prostate cancer OR 3.73 , p = 0.02 ; high grade prostate cancer OR 7.95 , p = 0.002 ) .The previously developed risk calculator generally underestimated the risks of prostate cancer and high grade prostate cancer .Body mass index provided independently predictive information regarding the risks of prostate cancer and high grade prostate cancer after adjusting for other risk factors .Body mass index , especially in men with a known family history of prostate cancer , should be considered for inclusion in any clinical assessment of prostate cancer risk and recommendations regarding prostate biopsy .\"\n",
            "}\n",
            " 2 24645632 2.5046\n",
            "{\n",
            "  \"id\" : \"24645632\",\n",
            "  \"contents\" : \"Skin cancer survivors experience an increased risk for subsequent malignancies but the associated risk factors are poorly understood .This study examined the risk of a new primary cancer following an initial skin cancer and assessed risk factors associated with second primary cancers .All invasive cutaneous malignant melanomas ( CMM , N = 28 069 ) and squamous cell carcinomas ( SCC , N = 24 620 ) diagnosed in Norway during 1955-2008 were included .Rates of new primary cancers in skin cancer survivors were compared to rates of primary malignancies in the general population using standardized incidence ratios ( SIR ) .Discrete-time logistic regression models were applied to individual-level data to estimate cancer risk among those with and without a prior skin cancer , accounting for residential region , education , income , parenthood , marital status and parental cancer status , using a 20 % random sample of the entire Norwegian population as reference .Further analyses of the skin cancer cohort were undertaken to determine risk factors related to subsequent cancers .During follow-up , 9608 new primary cancers occurred after an initial skin cancer .SIR analyses showed 50 % and 90 % increased risks for any cancer after CMM and SCC , respectively ( p < 0.01 ) .The logistic regression model suggested even stronger increase after SCC ( 130 % ) .The highest risk was seen for subsequent skin cancers , but several non-skin cancers were also diagnosed in excess : oral , lung , colon , breast , prostate , thyroid , leukemia , lymphoma and central nervous system .Factors that were associated with increased risk of subsequent cancers include male sex , older age , lower residential latitude , being married and low education and income .Parental cancer did not increase the risk of a subsequent cancer after SCC , but was a significant predictor among younger CMM survivors .Our results provide information on shared environmental and genetic risk factors for first and later cancers and may help to identify individuals at high risk for subsequent cancers , which will be important as skin cancer incidence continues to rise .\"\n",
            "}\n",
            " 3 24569437 2.4976\n",
            "{\n",
            "  \"id\" : \"24569437\",\n",
            "  \"contents\" : \"NSABP P-1 provides an opportunity to examine the association of behavioral factors with prospectively monitored cancer incidence and interactions with tamoxifen .From 1992 to 1997 , 13,388 women with estimated 5-year breast cancer risk greater than 1.66 % or a history of lobular carcinoma in situ ( 87 % younger than age 65 ; 67 % postmenopausal ) were randomly assigned to tamoxifen versus placebo .Invasive breast cancer , lung cancer , colon cancer , and endometrial cancer were analyzed with Cox regression .Predictors were baseline cigarette smoking , leisure-time physical activity , alcohol consumption , and established risk factors .At median 7 years follow-up , we observed 395 , 66 , 35 , and 74 breast cancer , lung cancer , colon cancer , and endometrial cancer , respectively .Women who had smoked were at increased risk of breast cancer ( P = 0.007 ; HR = 1.3 for 15-35 years smoking , HR = 1.6 for 35 years ) , lung cancer ( P < 0.001 ; HR = 3.9 for 15-35 years , HR = 18.4 for 35 years ) , and colon cancer ( P < 0.001 ; HR = 5.1 for 35 years ) versus never-smokers .Low activity predicted increased breast cancer risk only among women assigned to placebo ( P = 0.021 activity main effect , P = 0.013 activity-treatment interaction ; HR = 1.4 for the placebo group ) and endometrial cancer among all women ( P = 0.026 , HR = 1.7 ) .Moderate alcohol ( > 0-1 drink/day ) was associated with decreased risk of colon cancer ( P = 0.019 ; HR = 0.35 ) versus no alcohol .There were no other significant associations between these behaviors and cancer risk .Among women with elevated risk of breast cancer , smoking has an even greater impact on breast cancer risk than observed in past studies in the general population .Women who smoke or are inactive should be informed of the increased risk of multiple types of cancer .\"\n",
            "}\n",
            " 4 20859673 2.4917\n",
            "{\n",
            "  \"id\" : \"20859673\",\n",
            "  \"contents\" : \"To assess the association between dietary acrylamide intake and the risk of cancer among male smokers .The study consisted of 27,111 male smokers , aged 50-69 years , without history of cancer .They were participants of the Alpha-Tocopherol , Beta-Carotene Cancer Prevention ( ATBC ) Study in Finland .The men completed a validated dietary questionnaire and a questionnaire on general background characteristics ( including smoking habits ) at baseline .Incident cases of cancer were identified through the national Finnish Cancer Registry .During an average 10.2 year follow-up , 1,703 lung cancers , 799 prostate cancers , 365 urothelial cancers , 316 colorectal cancers , 224 stomach cancers , 192 pancreatic cancers , 184 renal cell cancers , and 175 lymphomas were diagnosed .Dietary acrylamide intake was positively associated with the risk of lung cancer ; relative risk ( RR ) in the highest versus the lowest quintile in the multivariable-adjusted model was 1.18 ( ( 95 % confidence interval ( CI ) 1.01-1 .38 , p for trend 0.11 ) .Other cancers were not associated with acrylamide intake .High acrylamide intake is associated with increased risk of lung cancer but not with other cancers in male smokers .\"\n",
            "}\n",
            " 5 7752269 2.4895\n",
            "{\n",
            "  \"id\" : \"7752269\",\n",
            "  \"contents\" : \"Tamoxifen is being increasingly used for the treatment of breast cancer and is undergoing study for the primary prevention of breast cancer .However , concerns have been raised that the drug may increase the incidence of new primary malignancies , such as endometrial , liver , and colorectal cancers .Our goal was to assess the carcinogenic risks associated with long-term use of tamoxifen in women with early stage breast cancer .The incidence of new primary cancers among 2729 women participants of the Stockholm Trial was determined at a median follow-up of 9 years .In this trial , after primary surgery , postmenopausal patients aged less than 71 years with unilateral invasive breast cancer were randomly allocated to receive either 2 years of adjuvant tamoxifen ( 40 mg daily ) or no adjuvant endocrine therapy .Information on second cancers was obtained by retrospective linkage to the Swedish Cancer Registry .To increase statistical power , a joint analysis of the incidence of endometrial and gastrointestinal cancers was performed in the following three major studies in Scandinavia evaluating adjuvant tamoxifen therapy : the Stockholm Trial , the Danish Breast Cancer Group Trial , and the South-Swedish Trial .These studies included a total of 4914 patients with a median follow-up of 8-9 years .All P values were calculated from two-tailed tests of statistical significance .In the Stockholm Trial , there was a statistically significant ( P = .008 ) reduction in the incidence of second primary cancers in the contralateral breast among the tamoxifen-treated patients .However , there was a nearly sixfold increase in endometrial cancers ( P < .001 ) and a threefold increase in gastrointestinal cancers in the tamoxifen-treated patients .The results of the joint studies showed a statistically significant increase in endometrial cancers among the tamoxifen-treated patients ( relative risk [ RR ] = 4.1 ; 95 % confidence interval [ CI ] = 1.9-8 .9 ) .There was also an excess of gastrointestinal cancers associated with tamoxifen .Most of this excess involved colorectal cancers ( RR = 1.9 ; 95 % CI = 1.1-3 .3 ) and stomach cancer ( RR = 3.2 ; 95 % CI = 0.9-11 .7 ) .There was no substantial increase in any other type of gastrointestinal cancer ( e.g. , liver cancer ) among the tamoxifen-treated patients .The endometrium and gastrointestinal organs may be target sites for tamoxifen-induced carcinogenesis in humans .The increased incidence of colorectal and stomach cancers reported here should be regarded as tentative until supported by long-term data from a larger number of tamoxifen trials .Also , appropriate surveillance of cancer incidence is warranted for the protection of participants enrolled in current tamoxifen chemoprevention trials .\"\n",
            "}\n",
            " 6 25017249 2.4891\n",
            "{\n",
            "  \"id\" : \"25017249\",\n",
            "  \"contents\" : \"The World Cancer Research Fund ( WCRF ) and the American Institute for Cancer Research ( AICR ) published eight recommendations for cancer prevention , but they are not targeted at prostate cancer prevention .We investigated whether adherence to the WCRF/AICR recommendations and a prostate cancer dietary index is associated with prostate cancer risk .We conducted a nested case-control study of 1,806 prostate-specific antigen ( PSA ) - detected prostate cancer cases and 12,005 controls in the ProtecT trial .We developed a prostate cancer dietary index by incorporating three dietary factors most strongly associated with prostate cancer .Scores were computed to quantify adherence to the WCRF/AICR recommendations and the prostate cancer dietary index separately .The prostate cancer dietary index score was associated with decreased risk of prostate cancer [ OR per 1 score increment : 0.91 ; 95 % confidence interval ( CI ) : 0.84-0 .99 ; Ptrend = 0.04 ] but the WCRF/AICR index score was not ( OR : 0.99 ; 95 % CI : 0.94-1 .05 ; Ptrend = 0.71 ) .There was no heterogeneity in association by prostate cancer stage ( P = 0.81 ) or grade ( P = 0.61 ) .Greater adherence to recommendations to increase plant foods ( OR per 0.25 index score increment : 0.94 ; 95 % CI : 0.89-0 .99 ; Ptrend = 0.02 ) and tomato products ( OR adherence vs. nonadherence : 0.82 ; 95 % CI : 0.70-0 .97 ; P = 0.02 ) was inversely associated with overall prostate cancer risk .Adherence to the prostate cancer-specific dietary recommendations was associated with decreased risk of prostate cancer .High intake of plant foods and tomato products in particular may help protect against prostate cancer .Meeting the WCRF/AICR recommendations alone is insufficient for prostate cancer prevention .Additional dietary recommendations should be developed .\"\n",
            "}\n",
            " 7 23448100 2.4870\n",
            "{\n",
            "  \"id\" : \"23448100\",\n",
            "  \"contents\" : \"The Michigan Prevention Research Center , the University of Michigan Schools of Nursing , Public Health , and Medicine , and the Michigan Department of Community Health propose a multidisciplinary academic-clinical practice three-year project to increase breast cancer screening among young breast cancer survivors and their cancer-free female relatives at greatest risk for breast cancer .The study has three specific aims : 1 ) Identify and survey 3,000 young breast cancer survivors ( diagnosed at 20-45 years old ) regarding their breast cancer screening utilization .2 ) Identify and survey survivors ' high-risk relatives regarding their breast cancer screening utilization .3 ) Test two versions ( Targeted vs. Enhanced Tailored ) of an intervention to increase breast cancer screening among survivors and relatives .Following approval by human subjects review boards , 3,000 young breast cancer survivors will be identified through the Michigan Cancer Registry and mailed an invitation letter and a baseline survey .The baseline survey will obtain information on the survivors ' : a ) current breast cancer screening status and use of genetic counseling ; b ) perceived barriers and facilitators to screening ; c ) family health history .Based on the family history information provided by survivors , we will identify up to two high-risk relatives per survivor .Young breast cancer survivors will be mailed consent forms and baseline surveys to distribute to their selected high-risk relatives .Relatives ' baseline survey will obtain information on their : a ) current breast cancer screening status and use of genetic counseling ; and b ) perceived barriers and facilitators to screening .Young breast cancer survivors and high-risk relatives will be randomized as a family unit to receive two versions of an intervention aiming to increase breast cancer screening and use of cancer genetic services .A follow-up survey will be mailed 9 months after the intervention to survivors and high-risk relatives to evaluate the efficacy of each intervention version on : a ) use of breast cancer screening and genetic counseling ; b ) perceived barriers and facilitators to screening ; c ) self-efficacy in utilizing cancer genetic and screening services ; d ) family support related to screening ; e ) knowledge of breast cancer genetics ; and f ) satisfaction with the intervention .The study will enhance efforts of the state of Michigan surrounding cancer prevention , control , and public health genomics .\"\n",
            "}\n",
            " 8 10214599 2.4843\n",
            "{\n",
            "  \"id\" : \"10214599\",\n",
            "  \"contents\" : \"To evaluate the effectiveness of a video intervention in decreasing cancer fatalism , increasing knowledge of colorectal cancer , and increasing participation in fecal-occult blood testing ( FOBT ) .Repeated measures , pretest/post-test .Senior citizen centers in a rural southern state .Individuals were selected and assigned to the study group based on the center they attended .Centers were selected and assigned randomly to an intervention ( n = 42 ) or control ( n = 28 ) group .The age of the participants ranged from 52-92 years ( X = 75 ) .Pretest measures included the Powe Fatalism inventory , the Colorectal Cancer Knowledge Questionnaire , and the Demographic Data Questionnaire .The intervention group viewed the Medical University of South Carolina 's video Telling the Story ... To Live is God 's Will , and the control group viewed the American Cancer Society ( ACS ) video Colorectal Cancer : The Cancer No One Talks About .Hemoccult II kits were distributed to both groups at no cost .Post-test data were collected using the Powe Fatalism Inventory and the Colorectal Cancer Knowledge Questionnaire .Cancer fatalism , knowledge of colorectal cancer , and participation in FOBT .People who viewed the intervention video had a greater decrease in cancer fatalism scores and a greater increase in knowledge of colorectal cancer scores than the control group .Both groups had greater than 60 % participation in FOBT .Telling the Story ... To Live is God 's Will is an effective , self-contained , cost-effective intervention to decrease cancer fatalism and increase knowledge of colorectal cancer .The video was as effective as the ACS video on colorectal cancer in increasing participation in FOBT among rural elders .But , because Telling the Story ... To Live is God 's Will also decreases cancer fatalism and increases knowledge , the potential exists for the increased screening behaviors to be maintained over time .Showing the video in waiting areas of community health centers to facilitate the discussion of colorectal cancer and cancer screening with the healthcare professional is a possibility .Nursing students may benefit from using the video as a model for the integration of beliefs and attitudes in developing culturally appropriate , community-based interventions .More research is needed to determine if the positive outcomes of the intervention ( i.e. , decreased cancer fatalism , increased knowledge , increased participation in colorectal cancer screening ) can be maintained over time .\"\n",
            "}\n",
            " 9 23694983 2.4843\n",
            "{\n",
            "  \"id\" : \"23694983\",\n",
            "  \"contents\" : \"Eastern Africa has the highest incidence and mortality rates from cervical cancer worldwide .It is important to describe the differences among women and their perceived risk of cervical cancer to determine target groups to increase cervical cancer screening .In this cross-sectional study , we surveyed women seeking reproductive health services in Kisumu , Kenya to assess their perceived risk of cervical cancer and risk factors influencing cervical cancer screening uptake .statistics and t tests were used to determine significant factors , which were incorporated into a logistic model to determine factors independently associated with cervical cancer risk perception .Whereas 91 % of the surveyed women had heard of cancer , only 29 % of the 388 surveyed women had previously heard of cervical cancer .Most had received their information from health care workers .Few women ( 6 % ) had ever been screened for cervical cancer and cited barriers such as fear , time , and lack of knowledge about cervical cancer .Nearly all previously screened women ( 22/24 [ 92 % ] ) believed that cervical cancer was curable if detected early and that screening should be conducted annually ( 86 % ) .Most women ( 254/388 [ 65 % ] ) felt they were at risk for cervical cancer .Women with perceived risk of cervical cancer were older ( odds ratio [ OR ] , 1.06 ; 95 % confidence interval [ CI ] , 1.02-1 .10 ) , reported a history of marriage ( OR , 2.08 ; CI , 1.00-4 .30 ) , were less likely to feel adequately informed about cervical cancer by health care providers ( OR , 0.76 ; CI , 0.18-0 .83 ) , and more likely to intend to have cervical cancer screening in the future ( OR , 10.59 ; CI , 3.96-28 .30 ) .Only 5 % of the women reported that they would not be willing to undergo screening regardless of cost .Cervical cancer is a major health burden for women in sub-Saharan Africa , yet only one third of the women had ever heard of cervical cancer in Kisumu , Kenya .Understanding factors associated with women 's perceived risk of cervical cancer could guide future educational and clinical interventions to increase cervical cancer screening .\"\n",
            "}\n",
            "10 25008853 2.4779\n",
            "{\n",
            "  \"id\" : \"25008853\",\n",
            "  \"contents\" : \"Recent posttrial analysis of a completed randomized trial found an increased risk of prostate cancer among healthy men taking high-dose vitamin E supplements .Trials that examined the effect of vitamin C supplements on cancer risk are few .We examined whether vitamin E or vitamin C supplementation affects the risk of cancer events during posttrial follow-up of the Physicians ' Health Study II .Beginning in 1997 , a total of 14,641 US male physicians aged 50 y were randomly assigned to receive 400 IU of vitamin E every other day , 500 mg of vitamin C daily , or their respective placebos .The vitamin E and vitamin C treatment ended in 2007 , and observational follow-up continued through June 2011 .This study included an additional 356 cases of incident prostate cancer and 771 total cancers that developed during a mean ( maximum ) of 2.8 ( 3.8 ) y of posttrial observation .During an overall mean of 10.3 ( 13.8 ) y , there were a total of 1373 incident prostate cancers and 2669 total cancers documented .In comparison with placebo , vitamin E supplementation had no effect on the incidence of prostate cancer ( HR : 0.99 ; 95 % CI : 0.89 , 1.10 ) or total cancers ( HR : 1.02 ; 95 % CI : 0.95 , 1.10 ) .There was also no effect of vitamin C supplementation on total cancers ( HR : 1.02 ; 95 % CI : 0.94 , 1.10 ) or incident prostate cancer ( HR : 1.03 ; 95 % CI : 0.93 , 1.15 ) .Neither vitamin E nor vitamin C supplementation had effects on other site-specific cancers overall .Stratification by known cancer risk factors , history of cancer , other randomized treatment , and follow-up time showed no significant interactions .In this large-scale randomized trial in men , vitamin E and C supplementation had no immediate or long-term effects on the risk of total cancers , prostate cancer , or other site-specific cancers .\"\n",
            "}\n",
            "time for retreive by inverted index: 0.07532858848571777\n"
          ]
        }
      ]
    },
    {
      "cell_type": "code",
      "source": [
        "import time\n",
        "\n",
        "keyword=\"cancer\"\n",
        "hits=[]\n",
        "\n",
        "start = time.time()\n",
        "with open(\"./tests/data.json\", \"r\") as f:\n",
        "  data =json.load(f)\n",
        "  for ele in data:\n",
        "    # if ele[\"contents\"].find(keyword)!=-1:\n",
        "    if keyword in ele['contents']:\n",
        "      hits.append(ele)\n",
        "\n",
        "end = time.time()\n",
        "for i in range(10):\n",
        "  print(hits[i])\n",
        "\n",
        "print(\"time for linear scan:\",end - start)"
      ],
      "metadata": {
        "colab": {
          "base_uri": "https://localhost:8080/"
        },
        "id": "6frbcd76dPq9",
        "outputId": "4dedac28-b1c5-4662-b07d-1348cd972dc5"
      },
      "execution_count": null,
      "outputs": [
        {
          "output_type": "stream",
          "name": "stdout",
          "text": [
            "{'id': '16308853', 'contents': 'Use of blue dye alone as a marker for sentinel lymph node ( SLN ) biopsy is effective , but combining it with isotope marking can improve the success rate .Use of the isotope adds extra cost and there are potential radiation hazards .The two techniques were compared in a randomized trial .Women with early breast cancer ( less than 3 cm ) and no palpable axillary nodes were recruited .Women older than 70 years with multicentric cancers or previous surgery to the breast or axilla were excluded .Patients were randomized to either blue dye alone or combined mapping for SLN biopsy .All women had a level I and II axillary dissection after the SLN biopsy .A total of 123 patients were recruited , of whom five were excluded from analysis .Blue dye alone was used in 57 women and 61 had combined mapping .Baseline demographic data were similar in the two cohorts .The success rate of SLN biopsy was higher with combined mapping than with blue dye alone ( 100 versus 86 per cent ; P = 0.002 ) .The accuracy and false-negative rate were similar ( accuracy 100 per cent for combined mapping versus 98 per cent for blue dye ; false-negative rate 0 versus 5 per cent ) .Combined mapping was superior to blue dye alone in identification of the SLN , but accuracy and false-negative rates were similar .'}\n",
            "{'id': '1384949', 'contents': \"Survivors of advanced Hodgkin disease , who were assigned randomly to treatment by mechlorethamine , vincristine , procarbazine , and prednisone ( MOPP ) ; doxorubicin , bleomycin , vinblastine , and dacarbazine ( ABVD ) ; or MOPP alternating with ABVD in a clinical trial of the Cancer and Leukemia Group B ( protocol 8251 ) , were compared in terms of their psychosocial adaptation and psychosexual function an average of 2.2 years after completion of treatment ( range , 1-5 years ) .The study was undertaken to determine if there were differences among treatments in these functional areas as a consequence of differential long-term gonadal damage in the three regimens .Ninety-three disease-free survivors of advanced Hodgkin disease ( 56 men and 37 women ) were studied ( a minimum of 1 year after completion of treatment ) by an interview conducted over the telephone .Standardized measures were used to assess their psychologic , sexual , family , and vocational functioning , including the following tests : the Psychosocial Adjustment to Illness Scale -- Self Report , the Brief Symptom Inventory , the Profile of Mood States , and the Impact of Event Scale .Contrary to expectation , no statistically significant differences in survivors ' psychosocial adaptation or psychosexual function were found by treatment arm .Infertility ( based on survivors ' reports of medical test results and perceptions ) and lower income 1 year before the diagnosis of cancer were significant predictors of poorer adjustment .Most survivors reported a range of problems that they attributed to having had cancer : 35 % , proven or perceived infertility ; 24 % , sexual problems ; 31 % , health and life insurance problems ; 26 % , a negative socioeconomic effect ; and 51 % , conditioned nausea , associated with visual or olfactory reminders of chemotherapy .No significant long-term advantage in psychosocial adaptation or psychosexual function was found for survivors of Hodgkin disease treated by the less gonadally toxic ABVD regimen 1 to 5 years after completion of treatment .\"}\n",
            "{'id': '24361227', 'contents': 'Paclitaxel and gemcitabine ( PG ) combination chemotherapy is effective as a maintenance chemotherapeutic regimen in metastatic breast cancer ( MBC ) patients because it increases progression-free survival ( PFS ) , which increases overall survival ( OS ) .The primary purpose of our study was to investigate the association between genetic polymorphisms in the genes involved in PG pathways and clinical outcomes in MBC patients treated with PG chemotherapy .A total of 324 MBC patients were enrolled in this prospective multicenter trial of PG as the first-line chemotherapy .Eighty-five of the 324 patients from two institutes were available for analysis of single nucleotide polymorphisms ( SNPs ) .Germline DNA was extracted from peripheral blood mononuclear cells .Thirty-eight SNPs in 15 candidate genes selected from pathways that may influence the metabolism and transport of , or sensitivity , to PG were analysed .The median PFS and OS of all 324 patients were 8.7 months ( 95 % confidence interval [ CI ] : 7.5-9 .6 months ) and 26.9 months ( 95 % CI : 23.6-30 .1 months ) , respectively .An SNP in SLC28A3 ( rs7867504 , C/T ) was associated with OS ( CC or CT versus TT : 37 versus 21 months , p = 0.027 , hazard ratio [ HR ] 2.6 , 95 % CI : 1.1-6 .3 ) .SLC29A1 GA haplotype had a significantly shorter OS ( p = 0.030 , HR 3.391 , 95 % CI : 1.13-10 .19 ) .RRM1 ( ribonucleotide reductase large subunit M1 ) SNP ( rs9937 ) , and haplotypes ATAA and ATGA were significantly associated with neurotoxicity .Genetic polymorphisms in SLC28A3 , SLC29A1 and RRM1 can influence the clinical outcome of MBC patients treated with PG chemotherapy .Further studies on the functional mechanisms relating to these germline polymorphisms in these genes are warranted .'}\n",
            "{'id': '23460711', 'contents': \"Elderly patients form a heterogeneous population .Evaluation of geriatric factors may help evaluate a patient 's health status to better adapt treatment .Elderly patients with previously untreated metastatic colorectal cancer ( mCRC ) were randomly assigned to receive fluorouracil ( FU ) - based chemotherapy either alone or in combination with irinotecan ( IRI ) in the Fdration Francophone de Cancrologie Digestive ( FFCD ) 2001-02 study .Sites participating in the geriatric substudy completed geriatric screening tools to perform prognostic factor analyses for treatment safety during the first 4 months after treatment initiation .The geriatric score was calculated in 123 patients ( 44 % ) .Median age was 80 years ( range , 75 to 91 years ) .The Charlson comorbidity index was 1 in 75 % , Mini-Mental State Examination ( MMSE ) score was 27/30 in 31 % , and Instrumental Activities of Daily Living ( IADL ) showed impairment in 34 % of the patients .Seventy-one patients ( 58 % ) had grade 3 to 4 toxicity , 41 ( 33 % ) had a dose-intensity reduction of more than 33 % , and 54 ( 44 % ) had at least one unexpected hospitalization during the first 4 months after starting treatment .In multivariate analysis , significant predictive factors for grade 3-4 toxicity were IRI arm ( odds ratio [ OR ] , 5.03 ) , MMSE 27/30 ( OR , 3.84 ) , and impaired IADL ( OR , 4.67 ) ; for dose-intensity reduction of > 33 % , the significant predictive factors were alkaline phosphates > 2 upper limit of normal ( OR , 4.16 ) and IRI arm ( OR , 6.85 ) ; and for unexpected hospitalization , significant predictive factors were MMSE 27/30 ( OR , 4.56 ) and Geriatric Depression Scale 2 ( OR , 5.52 ) .Geriatric factors ( MMSE and IADL ) are predictive of severe toxicity or unexpected hospitalization ( MMSE ) in a randomized prospective phase III study in mCRC .These results suggest that cognitive function and autonomy impairment should be taken into account when choosing a regimen for chemotherapy .\"}\n",
            "{'id': '19078934', 'contents': 'In a low socioeconomic-status population of Latina women , we evaluated the potential of storytelling ( ST ) as a culturally aligned narrative method to promote colorectal cancer ( CRC ) prevention and screening , compared to a risk tool ( RT ) - based intervention .Seventy-eight women were randomized in this pilot study to one of two brief interventions to communicate CRC risk reduction options : ST or an RT. .Measures of behavioral intentions relative to CRC prevention and screening were obtained following the intervention .Mean scores for intent to obtain and recommend endoscopy to others were significantly better for participants receiving ST than RT ( P = .038 and P = .011 , respectively ) .All participants expressed intent to increase fruit and vegetable consumption and physical activity in response to interventions .Post-intervention perceptions of cancer risk and fear of CRC were not significantly different for participants receiving ST compared with RT. .Pre - to post-intervention perceptions of risk increased in ST and decreased in RT , while decreases in fear were similar across both intervention groups .Storytelling may be an effective approach for changing CRC risk-related behavioral intentions among Latinas .Mediating factors ( such as perceived risk or fear ) often used to predict behavior change may not adequately explain the potential persuasive mechanisms of storytelling .'}\n",
            "{'id': '17520382', 'contents': 'To evaluate enhanced recovery after surgery ( ERAS ) protocol in colorectal surgery .From september 2006 to February 2007 , 74 patients with colorectal cancer were randomly assigned to ERAS group and control group .The stress index , nutrition and metabolism index , intraoperative index and postoperative index were evaluated .Six patients were excluded , 3 in ERAS group ( 2 cases received hepatectomy concomitantly and 1 case received partial ileum resection ) , and 3 in control group ( 1 case received hepatectomy and 1 case received colorectomy concomitantly , another presented asthma paroxysm ) .So there were 34 cases in ERAS group and 34 cases in control , with no statistical differences in sex , age , BMI index and operation types .Deviation of HOMA-IR index of ERAS was lower than the control ( P > 0.05 ) , the same as plasma cortisol at the 1st day after operation ( P < 0.05 ) , but plasma glucagons in the operation of ERAS group was higher than that of control ( P < 0.05 ) .Plasma glucose 1st day after operation of ERAS group was lower than control ( P < 0.05 ) , while plasma triglyceride intraoperation , at 1st day , 2nd day after operation of ERAS was higher than control ( P < 0.05 ) .Nitrogen negative balance of ERAS group was higher than control at 2nd day after surgery , but is lower intraoperation and at 6th day after operation ( P < 0.05 ) .The time of exhaust gas and stool , time to eat fluidity and semi-fluidity , out-of-bed time and exercise time per-day , residual time and complication rate in ERAS group were better than those of control ( P < 0.05 ) .Post-operative expenses of ERAS was lower than that of control ( P < 0.05 ) .ERAS can decrease surgical stress , increase functional recovery and reduce complication rate .'}\n",
            "{'id': '11390121', 'contents': 'To demonstrate equivalent efficacy for menopausal symptoms between Aerodiol nasal spray and reference oral estradiol therapy , and to investigate the endometrial safety and tolerability of Aerodiol in the long term .The efficacy of Aerodiol 300 microg , once daily , was compared with oral estradiol 2 mg/day in a randomized , double-blind trial .A statistical test of noninferiority was performed on the mean absolute Kupperman index ( KI ) obtained after 14 and 23 weeks of the two treatments .Long-term safety was assessed in a 1-year open-label study .The initial Aerodiol dose was 300 microg/day , and was adjusted if required .Endometrial biopsies were obtained at inclusion and at the end of the trial and examined independently by two pathologists .In the equivalence trial , the KI improved similarly in the Aerodiol group ( n = 317 ) and the oral estradiol group ( n = 342 ) .Aerodiol was shown statistically to be at least as effective as oral therapy ( P < 0.001 ) , but the incidences of mastalgia and withdrawal bleeding were significantly lower in the Aerodiol group ( P < 0.01 and P < 0.001 , respectively ) .In the long-term safety trial ( n = 408 ) , the rate of Aerodiol treatment continuation at 12 months was 85 % , and there was no incidence of endometrial hyperplasia or cancer .Aerodiol dose adaptation was performed by 29 % of women .Aerodiol was shown to have equivalent efficacy to reference oral estradiol therapy , but with better gynaecological acceptability .The endometrial safety of Aerodiol was confirmed in the long term , and the ability to adjust the dosage easily was of benefit to a substantial proportion of women .'}\n",
            "{'id': '17577218', 'contents': 'This randomized , noncomparative , multicenter , clinical trial evaluated ixabepilone or mitoxantrone/prednisone ( MP ) as second-line chemotherapy for taxane-refractory , hormone-refractory , prostate cancer ( HRPC ) .Patients with HRPC that progressed during or within 60 days of cessation of taxane chemotherapy were randomly selected with equal probability to ixabepilone 35 mg/m ( 2 ) intravenously every 3 weeks , or mitoxantrone 14 mg/m ( 2 ) intravenously every 3 weeks and prednisone 5 mg orally twice daily .Treatment continued until progression or toxicity ; crossover was allowed .Forty-one patients were accrued to each arm of the study .The median number of cycles administered for each arm was 3 .Median survival from protocol entry was 10.4 months with ixabepilone and 9.8 months with MP .Prostate-specific antigen ( PSA ) declines of > or = 50 % were observed in 17 % of ixabepilone ( 95 % CI , 7-32 ) and 20 % of second-line MP patients ( 95 % CI , 9-35 ) .Partial responses were observed in 1 of 24 ixabepilone and in 2 of 21 MP patients with evaluable measurable disease .Median duration of second-line ixabepilone and MP treatment was 2.2 months and 2.3 months , respectively .For third-line crossover treatment , PSA declines of > or = 50 % were observed in 3 of 27 ixabepilone-treated and 4 of 15 MP-treated patients .Prior taxane response was associated with an increased likelihood of second-line ixabepilone or MP response .Low baseline lactate dehydrogenase and absence of visceral metastases independently predicted improved survival .The most common grade 3/4 toxicity associated with second-line treatment was neutropenia ( 54 % of ixabepilone patients and 63 % of MP patients ) .Ixabepilone and MP had modest activity as second-line chemotherapy for docetaxel-refractory HRPC .The median survival for the entire cohort treated in this study was 9.8 months .'}\n",
            "{'id': '9929018', 'contents': 'Radical radiotherapy is commonly used to treat localised prostate cancer .Late chronic side-effects limit the dose that can be given , and may be linked to the volume of normal tissues irradiated .Conformal radiotherapy allows a smaller amount of rectum and bladder to be treated , by shaping the high-dose volume to the prostate .We assessed the ability of this new technology to lessen the risk of radiation-related effects in a randomised controlled trial of conformal versus conventional radiotherapy .We recruited men with prostate cancer for treatment with a standard dose of 64 Gy in daily 2 Gy fractions .The men were randomly assigned conformal or conventional radiotherapy treatment .The primary endpoint was the development of late radiation complications ( > 3 months after treatment ) measured with the Radiation Therapy and Oncology Group ( RTOG ) score .Indicators of disease ( cancer ) control were also recorded .In the 225 men treated , significantly fewer men developed radiation-induced proctitis and bleeding in the conformal group than in the conventional group ( 37 vs 56 % > or = RTOG grade 1 , p = 0.004 ; 5 vs 15 % > or = RTOG grade 2 , p = 0.01 ) .There were no differences between groups in bladder function after treatment ( 53 vs 59 % > or = grade 1 , p = 0.34 ; 20 vs 23 % > or = grade 2 , p = 0.61 ) .After median follow-up of 3.6 years there was no significant difference between groups in local tumour control ( conformal 78 % [ 95 % CI 66-86 ] , conventional 83 % [ 69-90 ] ) .Conformal techniques significantly lowered the risk of late radiation-induced proctitis after radiotherapy for prostate cancer .Widespread introduction of these radiotherapy treatment methods is appropriate .Our results are the basis for dose-escalation studies to improve local tumour control .'}\n",
            "{'id': '24954805', 'contents': 'The prognosis for locally advanced gastric cancer is poor despite advances in adjuvant chemotherapy .We did the Stomach cancer Adjuvant Multi-Institutional group Trial ( SAMIT ) to assess the superiority of sequential treatment ( paclitaxel then tegafur and uracil [ UFT ] or paclitaxel then S-1 ) compared with monotherapy ( UFT or S-1 ) and also the non-inferiority of UFT compared with S-1 .We did this randomised phase 3 trial with a two-by-two factorial design at 230 hospitals in Japan .We enrolled patients aged 20-80 years with T4a or T4b gastric cancer , who had had D2 dissection and a ECOG performance score of 0-1 .Patients were randomly assigned to one of four treatment groups with minimisation for tumour size , lymph node metastasis , and study site .Patients received UFT only ( 267 mg/m ( 2 ) per day ) , S-1 only ( 80 mg/m ( 2 ) per day ) for 14 days , with a 7-day rest period or three courses of intermittent weekly paclitaxel ( 80 mg/m ( 2 ) ) followed by either UFT , or S-1 .Treatment lasted 48 weeks in monotherapy groups and 49 weeks in the sequential treatment groups .The primary endpoint was disease-free survival assessed by intention to treat .We assessed whether UFT was non-inferior to S-1 with a non-inferiority margin of 133 .This trial was registered at UMIN Clinical Trials Registry , number C000000082 .We randomly assigned 1495 patients between Aug 3 , 2004 , and Sept 29 , 2009.374 patients were assigned to receive UFT alone , 374 to receive S-1 alone , 374 to received paclitaxel then UFT , and 373 to receive paclitaxel then S-1 .We included 1433 patients in the primary analysis after at least 3 years of follow-up ( 359 , 364 , 355 , and 355 in each group respectively ) .Protocol treatment was completed by 215 ( 60 % ) patients in the UFT group , 224 ( 62 % ) in the S-1 group , 242 ( 68 % ) in the paclitaxel then UFT group , and 250 ( 70 % ) in the paclitaxel then S-1 group .3-year disease-free survival for monotherapy was 540 % ( 95 % CI 502-576 ) and that of sequential treatment was 572 % ( 534-608 ; hazard ratio [ HR ] 092 , 95 % CI 080-107 , p = 0273 ) .3-year disease-free survival for the UFT group was 530 % ( 95 % CI 492-566 ) and that of the S-1 group was 582 % ( 544-618 ; HR 081 , 95 % CI 070-093 , p = 00048 ; pnon-inferiority = 0151 ) .The most common grade 3-4 haematological adverse event was neutropenia ( 41 [ 11 % ] of 359 patients in the UFT group , 48 [ 13 % ] of 363 in the S-1 group , 46 [ 13 % ] of 355 in the paclitaxel then UFT group , and 83 [ 23 % ] of 356 in the paclitaxel then S-1 group ) .The most common grade 3-4 non-haematological adverse event was anorexia ( 21 [ 6 % ] , 24 [ 7 % ] , seven [ 2 % ] , and 18 [ 5 % ] , respectively ) .Sequential treatment did not improve disease-free survival , and UFT was not non-inferior to S-1 ( and S-1 was superior to UFT ) , therefore S-1 monotherapy should remain the standard treatment for locally advanced gastric cancer in Japan .Epidemiological and Clinical Research Information Network .'}\n",
            "time for linear scan: 2.6658849716186523\n"
          ]
        }
      ]
    },
    {
      "cell_type": "code",
      "source": [
        "def pyserini_search(keyword, index):\n",
        "  from pyserini.search.lucene import LuceneSearcher\n",
        "  import time\n",
        "\n",
        "  start = time.time()\n",
        "  searcher = LuceneSearcher(index)\n",
        "  hits = searcher.search(keyword)\n",
        "\n",
        "  for i in range(len(hits)):\n",
        "      print(f'{i+1:2} {hits[i].docid:4} {hits[i].score:.4f}')\n",
        "      print(hits[i].raw)\n",
        "\n",
        "  end = time.time()\n",
        "  print(\"time for retreive by inverted index:\",end - start)"
      ],
      "metadata": {
        "id": "LdB8bcD_kcD_"
      },
      "execution_count": null,
      "outputs": []
    },
    {
      "cell_type": "code",
      "source": [
        "def linear_scan(keyword, file):\n",
        "  import time\n",
        "\n",
        "  hits=[]\n",
        "  start = time.time()\n",
        "  with open(file, \"r\") as f:\n",
        "    data =json.load(f)\n",
        "    for ele in data:\n",
        "      if keyword in ele['contents']:\n",
        "        hits.append(ele)\n",
        "\n",
        "  end = time.time()\n",
        "  for i in range(10):\n",
        "    print(hits[i])\n",
        "\n",
        "  print(\"time for linear scan:\",end - start)"
      ],
      "metadata": {
        "id": "a_WUart1mSDi"
      },
      "execution_count": null,
      "outputs": []
    },
    {
      "cell_type": "code",
      "source": [
        "def pyserini_search_time(keyword, index):\n",
        "  from pyserini.search.lucene import LuceneSearcher\n",
        "  import time\n",
        "\n",
        "  start = time.time()\n",
        "  searcher = LuceneSearcher(index)\n",
        "  hits = searcher.search(keyword)\n",
        "\n",
        "  # for i in range(len(hits)):\n",
        "      # print(f'{i+1:2} {hits[i].docid:4} {hits[i].score:.4f}')\n",
        "      # print(hits[i].raw)\n",
        "\n",
        "  end = time.time()\n",
        "  print(\"time for retreive by inverted index:\",end - start)\n",
        "\n",
        "def linear_scan_time(keyword, file):\n",
        "  import time\n",
        "\n",
        "  hits=[]\n",
        "  start = time.time()\n",
        "  with open(file, \"r\") as f:\n",
        "    data =json.load(f)\n",
        "    for ele in data:\n",
        "      if keyword in ele['contents']:\n",
        "        hits.append(ele)\n",
        "\n",
        "  end = time.time()\n",
        "  # for i in range(10):\n",
        "  #   print(hits[i])\n",
        "\n",
        "  print(\"time for linear scan:\",end - start)"
      ],
      "metadata": {
        "id": "Gwv473DGqiHt"
      },
      "execution_count": null,
      "outputs": []
    },
    {
      "cell_type": "code",
      "source": [
        "keyword=\"Health\"\n",
        "file=\"./tests/data.json\"\n",
        "index=\"indexes/sample_collection_jsonl\"\n",
        "print(\"inverted index\")\n",
        "pyserini_search(keyword, index)\n",
        "print(\"\\n linear scan\")\n",
        "linear_scan(keyword, file)"
      ],
      "metadata": {
        "colab": {
          "base_uri": "https://localhost:8080/"
        },
        "id": "xjav_BrXmeyk",
        "outputId": "80f8fc16-d1aa-46f9-f12e-ec01f357d12d"
      },
      "execution_count": null,
      "outputs": [
        {
          "output_type": "stream",
          "name": "stdout",
          "text": [
            "inverted index\n",
            " 1 15370790 2.1299\n",
            "{\n",
            "  \"id\" : \"15370790\",\n",
            "  \"contents\" : \"To describe the occurrence of `` health realists '' , `` health pessimists '' and `` health optimists '' in a non-patient population by identifying cases of concordance and discordance between doctor-evaluated health and self-evaluated health and to describe the distribution of selected life-style-related physiological risk factors among these health-groups .Comparative study .Primary health care .456 middle-aged persons registered with a general practitioner ( GP ) were after a general health screening invited to a health discussion .Prior to the health screening the participants had assigned their health status to one of five categories ranging from `` very poor '' to `` excellent '' .After the health discussion the GP rated the participants ' general health status on a visual analogue scale .On basis of this information patients were classified as `` health realists '' , `` health optimists '' and `` health pessimists '' .54 % of the participants could be classified as `` good-health realists '' , 14 % as `` poor-health realists '' , 22 % as `` health optimists '' , and 10 % as `` health pessimists '' .`` Poor-health realists '' had the greatest accumulation of risk factors , followed by `` health optimists '' , `` health pessimists '' and `` good-health realists '' .Among the `` health pessimists '' there was a significantly higher risk score of future cardiovascular disease and poor physical endurance compared with the `` good-health realists '' .Discordance between doctor-evaluated health and self-evaluated health was found in 32 % of the cases studied .`` Health pessimists '' had more risk factors than `` good-health realists '' even though the GPs had rated their general health status as good in both cases .\"\n",
            "}\n",
            " 2 24079756 2.1097\n",
            "{\n",
            "  \"id\" : \"24079756\",\n",
            "  \"contents\" : \"Health system weaknesses in Africa are broadly well known , constraining progress on reducing the burden of both communicable and non-communicable disease ( Afr Health Monitor , Special issue , 2011 , 14-24 ) , and the key challenges in leadership , governance , health workforce , medical products , vaccines and technologies , information , finance and service delivery have been well described ( Int Arch Med , 2008 , 1:27 ) .This paper uses focus group methodology to explore health worker perspectives on the challenges posed to integration of mental health into primary care by generic health system weakness .Two ninety minute focus groups were conducted in Nyanza province , a poor agricultural region of Kenya , with 20 health workers drawn from a randomised controlled trial to evaluate the impact of a mental health training programme for primary care , 10 from the intervention group clinics where staff had received the training programme , and 10 health workers from the control group where staff had not received the training ) .These focus group discussions suggested that there are a number of generic health system weaknesses in Kenya which impact on the ability of health workers to care for clients with mental health problems and to implement new skills acquired during a mental health continuing professional development training programmes .These weaknesses include the medicine supply , health management information system , district level supervision to primary care clinics , the lack of attention to mental health in the national health sector targets , and especially its absence in district level targets , which results in the exclusion of mental health from such district level supervision as exists , and the lack of awareness in the district management team about mental health .The lack of mental health coverage included in HIV training courses experienced by the health workers was also striking , as was the intensive focus during district supervision on HIV to the detriment of other health issues .Generic health system weaknesses in Kenya impact on efforts for horizontal integration of mental health into routine primary care practice , and greatly frustrate health worker efforts.Improvement of medicine supplies , information systems , explicit inclusion of mental health in district level targets , management and supervision to primary care are likely to greatly improve primary care health worker effectiveness , and enable training programmes to be followed by better use in the field of newly acquired skills .A major lever for horizontal integration of mental health into the health system would be the inclusion of mental health in the national health sector reform strategy at community , primary care and district levels rather than just at the higher provincial and national levels , so that supportive supervision from the district level to primary care would become routine practice rather than very scarce activity .Trial registration ISRCTN 53515024 .\"\n",
            "}\n",
            " 3 23849046 2.1023\n",
            "{\n",
            "  \"id\" : \"23849046\",\n",
            "  \"contents\" : \"People with a serious mental illness are at significantly greater risk of poor cardiometabolic health with recent studies showing a greater than two-fold increase in the risk of obesity , infectious diseases , diabetes and cardiovascular disease .Contributing factors to this disparity include poorer health behaviours such as suboptimal physical activity , poor diet , smoking , alcohol and illicit drug misuse .In particular , the limited access to primary health care experienced by people with a serious mental illness has been highlighted .Persons with a serious mental illness are around 30 % less likely than those without serious mental illness to receive health assessments , hospital admissions or procedures for cardiovascular disease and diabetes , and are less likely to undergo cancer screening or receive vaccinations .Studies show that mental health consumers may be more likely to use mental health services rather than primary care for contact with the health care system .However mental health nurses report several barriers to their capacity to provide cardiometabolic health care crucial for the treatment of people with a serious mental illness .To assess the impact of a specialist Cardiometabolic Health Nurse on the physical health care of community based mental health consumers .Community mental health facility in a large regional centre in Central Queensland , Australia .Community based mental health consumers will be randomised to receive either usual care , or consultations with a Cardiometabolic Health Nurse .The Cardiometabolic Health Nurse will be responsible for assessing the client and coordinating cardiometabolic health care as required .Post intervention review of health records will be performed with the primary outcome measure being self-reported physical health .Secondary outcomes include the utilisation of primary care services and changes in health behaviours .We hypothesise that the Cardiometabolic Health Nurse will increase the utilisation of health care services for mental health consumers .Data collection commenced in March 2013 and will conclude September 2013 .Preliminary finding are expected in December 2013 .\"\n",
            "}\n",
            " 4 16166876 2.0860\n",
            "{\n",
            "  \"id\" : \"16166876\",\n",
            "  \"contents\" : \"If an 85-year-old man rates his health as 90 on a scale in which 100 represents `` perfect health , '' would his rating mean the same thing as a 90 rating from a 25-year-old ?We conducted a randomized trial of 3 different ways of eliciting subjective health ratings from participants in the Health and Retirement Study to test whether the meaning of perfect health changes as people age , causing people to recalibrate their self-reported health ratings to account for their age .The Health and Retirement Study ( HRS ) is a nationally representative , prospective study of 22,000 persons born in 1947 or earlier .The data analyzed in this study come from the self-assessed health utilities module administered in 2002 to 1031 randomly selected HRS respondents .Respondents were randomized to receive one of 3 versions of a subjective health rating task .In the perfect health version , they were asked how they would rate their `` current health on a scale from 0 to 100 , in which 0 represents death and 100 represents perfect health . ''In the your-age version , the phrase `` for someone your age '' was added to the end of the question to encourage people to recalibrate their responses based on age , and in the 20-year-old version , the phrase `` for a 20-year-old '' was added to minimize recalibration .A total of 1015 subjects responded to the rating task ( 98 % response rate ) .Health ratings varied significantly across versions , with subjects responding to the 20-year-old version reporting lower health ( mean rating 66 of 100 ) than those responding to the your-age version ( mean rating of 73 , P < 0.001 ) or the perfect health version ( mean rating of 73 , P < 0.001 ) .This result suggests that subjects interpret perfect health to mean `` perfect health for someone your age . ''However , additional analysis showed that the interpretation of the phrase perfect health lies somewhere between the other 2 versions .For example , responses to the perfect health and 20-year-old versions varied significantly by respondent age ( both P 's < 0.075 ) , whereas responses to the your-age scale did not ( P = 0.8 ) .The phrase `` perfect health '' is ambiguous , causing some people to recalibrate their responses based on their age .Such ambiguity threatens the validity of common subjective health ratings , thereby reducing the comparability of responses across people of different ages or different circumstances .\"\n",
            "}\n",
            " 5 22716205 2.0841\n",
            "{\n",
            "  \"id\" : \"22716205\",\n",
            "  \"contents\" : \"Indigenous Australians suffer substantially poorer oral health than their non-Indigenous counterparts and new approaches are needed to address these disparities .Previous work in Port Augusta , South Australia , a regional town with a large Indigenous community , revealed associations between low oral health literacy scores and self-reported oral health outcomes .This study aims to determine if implementation of a functional , context-specific oral health literacy intervention improves oral health literacy-related outcomes measured by use of dental services , and assessment of oral health knowledge , oral health self-care and oral health - related self-efficacy .This is a randomised controlled trial ( RCT ) that utilises a delayed intervention design .Participants are Indigenous adults , aged 18 years and older , who plan to reside in Port Augusta or a nearby community for the next two years .The intervention group will receive the intervention from the outset of the study while the control group will be offered the intervention 12 months following their enrollment in the study .The intervention consists of a series of five culturally sensitive , oral health education workshops delivered over a 12 month period by Indigenous project officers .Workshops consist of presentations , hands-on activities , interactive displays , group discussions and role plays .The themes addressed in the workshops are underpinned by oral health literacy concepts , and incorporate oral health-related self-efficacy , oral health-related fatalism , oral health knowledge , access to dental care and rights and entitlements as a patient .Data will be collected through a self-report questionnaire at baseline , at 12 months and at 24 months .The primary outcome measure is oral health literacy .Secondary outcome measures include oral health knowledge , oral health self-care , use of dental services , oral health-related self-efficacy and oral health-related fatalism .This study uses a functional , context-specific oral health literacy intervention to improve oral health literacy-related outcomes amongst rural-dwelling Indigenous adults .Outcomes of this study will have implications for policy and planning by providing evidence for the effectiveness of such interventions as well as provide a model for working with Indigenous communities .\"\n",
            "}\n",
            " 6 12773837 2.0839\n",
            "{\n",
            "  \"id\" : \"12773837\",\n",
            "  \"contents\" : \"Small controlled studies suggest that depression and other mental health problems are more common in children of parents with depression than in children of parents without depression .This article examines relationships between parental depression and children 's mental health problems and health care utilization in a nationally representative household sample of parents and their children .Cross sectional comparisons of sociodemographic characteristics , mental health problems and health expenditures of children whose parents either do or do not report depression in the 1997 Medical Expenditure Panel Survey data .A nationally representative sample of children , 3 to 18 years of age ( n = 8,360 ) with one or more parents living in the household .Mental health problems , total health expenditures , and mental health expenditures .Children of parents with depression were approximately twice as likely as children of parents without depression to have a variety of mental health problems and were 2.8 times more likely to use mental health services in adjusted analyses .Among children with health and mental health expenditures , those whose parents report depression had significantly higher mean total annual child health expenditures ( $ 282 vs. $ 214 , t = 3.5 , P = 0.0006 ) and child mental health expenditures ( $ 513 vs. $ 338 , t = 2.0 , P = 0.05 ) than children whose parents did not report depression .Children of parents with depression are at increased risk for a range of health problems .Parental depression is also related to an increased child health and mental health service utilization and expenditure .\"\n",
            "}\n",
            " 7 23915324 2.0817\n",
            "{\n",
            "  \"id\" : \"23915324\",\n",
            "  \"contents\" : \"Health care providers play a significant role in large scale health emergency planning , detection , response , recovery and communication with the public .The effectiveness of health care providers in emergency preparedness and response roles depends , in part , on public health agencies communicating information in a way that maximizes the likelihood that the message is delivered , received , deemed credible and , when appropriate , acted on .However , during an emergency , health care providers can become inundated with alerts and advisories through numerous national , state , local and professional communication channels .We conducted an alert fatigue study as a sub-study of a larger randomized controlled trial which aimed to identify the most effective methods of communicating public health messages between public health agencies and providers .We report an analysis of the effects of public health message volume/frequency on recall of specific message content and effect of rate of message communications on health care provider alert fatigue .Health care providers enrolled in the larger study ( n = 528 ) were randomized to receive public health messages via email , fax , short message service ( SMS or cell phone text messaging ) or to a control group that did not receive messages .For 12 months , study messages based on real events of public health significance were sent quarterly with follow-up telephone interviews regarding message receipt and topic recall conducted 5-10 days after the message delivery date .During a pandemic when numerous messages are sent , alert fatigue may impact ability to recall whether a specific message has been received due to the `` noise '' created by the higher number of messages .To determine the impact of `` noise '' when study messages were sent , we compared health care provider recall of the study message topic to the number of local public health messages sent to health care providers .We calculated the mean number of messages that each provider received from local public health during the time period around each study message and provider recall of study message content .We found that recall rates were inversely proportional to the mean number of messages received per week : Every increase of one local public health message per week resulted in a statistically significant 41.2 % decrease ( p < 0.01 ) , 95 % CI [ 0.39 , .87 ] in the odds of recalling the content of the study message .To our knowledge , this is the first study to document the effects of alert fatigue on health care providers ' recall of information .Our results suggest that information delivered too frequently and/or repetitively through numerous communication channels may have a negative effect on the ability of health care providers to effectively recall emergency information .Keeping health care providers and other first-line responders informed during an emergency is critical .Better coordination between organizations disseminating alerts , advisories and other messages may improve the ability of health care providers to recall public health emergency messages , potentially impacting effective response to public health emergency messages .\"\n",
            "}\n",
            " 8 19127975 2.0789\n",
            "{\n",
            "  \"id\" : \"19127975\",\n",
            "  \"contents\" : \"Delays in accessing care for malaria and other diseases can lead to disease progression , and user fees are a known barrier to accessing health care .Governments are introducing free health care to improve health outcomes .Free health care affects treatment seeking , and it is therefore assumed to lead to improved health outcomes , but there is no direct trial evidence of the impact of removing out-of-pocket payments on health outcomes in developing countries .This trial was designed to test the impact of free health care on health outcomes directly .2,194 households containing 2,592 Ghanaian children under 5 y old were randomised into a prepayment scheme allowing free primary care including drugs , or to a control group whose families paid user fees for health care ( normal practice ) ; 165 children whose families had previously paid to enrol in the prepayment scheme formed an observational arm .The primary outcome was moderate anaemia ( haemoglobin [ Hb ] < 8 g/dl ) ; major secondary outcomes were health care utilisation , severe anaemia , and mortality .At baseline the randomised groups were similar .Introducing free primary health care altered the health care seeking behaviour of households ; those randomised to the intervention arm used formal health care more and nonformal care less than the control group .Introducing free primary health care did not lead to any measurable difference in any health outcome .The primary outcome of moderate anaemia was detected in 37 ( 3.1 % ) children in the control and 36 children ( 3.2 % ) in the intervention arm ( adjusted odds ratio 1.05 , 95 % confidence interval 0.66-1 .67 ) .There were four deaths in the control and five in the intervention group .Mean Hb concentration , severe anaemia , parasite prevalence , and anthropometric measurements were similar in each group .Families who previously self-enrolled in the prepayment scheme were significantly less poor , had better health measures , and used services more frequently than those in the randomised group .In the study setting , removing out-of-pocket payments for health care had an impact on health care-seeking behaviour but not on the health outcomes measured .\"\n",
            "}\n",
            " 9 7492424 2.0758\n",
            "{\n",
            "  \"id\" : \"7492424\",\n",
            "  \"contents\" : \"There is increasing political pressure on the medical profession to approach welfare diseases , such as coronary heart disease and diabetes , through prevention .General practitioners are required to offer regular health checks to healthy people , in spite of the lack of scientific evidence for the universal need , usefulness and side effects of such an intervention .Randomized controlled trials are needed .A study was carried out to investigate people 's interest in participating in health checks and in discussions about health with their own general practitioner , participants ' health status , the proportion who received health advice following health checks , and the lifestyle goals they set following discussion with their general practitioner .This study reports the baseline data from a five-year randomized , controlled , prospective , population-based study in general practices in Ebeltoft , Denmark .All general practitioners from the four practices in Ebeltoft and a random sample of 2000 people aged between 30 and 50 years were invited to participate .Participants were randomly divided into three groups -- one control group and two intervention groups .One intervention group were given a health check which included being screened for cardiovascular risk factors , lung and liver function , fitness , sight and hearing and an optional test for the human immunodeficiency virus ( HIV ) ; this group received written feedback from the general practitioner .The other intervention group were also given a health check and written feedback ; in addition , they were given the opportunity to attend their general practitioner to discuss preventive health .A total of 1370 people participated in the study ( 69 % response rate ) .Health advice was given to 76 % of 905 participants following health checks .Almost all of the 456 participants ( 96 % ) who were offered the opportunity of discussing their health with their general practitioner took up the offer ; 64 % of the 456 participants reported that they had decided to undertake lifestyle changes .Eleven of those who discussed their health with the doctor were referred to a specialist ( 2 % ) .There was considerable interest in participating in health promotion .Three out of four of those having a health check were given health advice .Two out of three of those offered a health talk with the general practitioner appeared willing to make relevant lifestyle changes .Long-term follow up is needed to determine effects and side effects of health checks and health talks .\"\n",
            "}\n",
            "10 23217036 2.0727\n",
            "{\n",
            "  \"id\" : \"23217036\",\n",
            "  \"contents\" : \"An aging population poses significant challenges to health care in China .Health management has been implemented to reduce the costs of care , raise health service utilization , increase health knowledge and improve quality of life .Several studies have tried to verify the effectiveness of health management in achieving these goals worldwide .However , there have been insufficient randomized control trials ( RCTs ) to draw reliable conclusions .The few small-scale studies conducted in China include mostly the general population rather than the elderly .Our study is designed to evaluate the impact of community-based health management on the health of the elderly through an RCT in Nanjing , China .Two thousand four hundred participants , aged 60 or older and who gave informed consent , were randomly allocated 1:1 into management and control groups , the randomization schedule was concealed from community health service center staff until allocation .Community-based health management was applied in the former while the latter was only given usual care .After 18 months , three categories of variables ( subjective grading health indices , objective health indices and health service utilization ) were measured based on a questionnaire , clinical monitoring and diagnostic measurements .Differences between the two groups were assessed before and after the intervention and analyzed with t-test , 2-test , and multiple regression analysis .Compared with the control group , the management group demonstrated improvement on the following variables ( P < 0.01 ) : health knowledge score , self-evaluated psychological conditions , overall self-evaluated health conditions , diet score , physical activity duration per week , regular blood pressure monitoring , waist-to-hip ratio , systolic blood pressure and fasting blood sugar .The number of outpatient clinic visits did not differ significantly ( P = 0.60 ) between the two groups before intervention , while after intervention it was smaller in the management group than in the control group ( P < 0.01 ) .However , the number of hospital admissions in the preceding 6 months was not different between the two groups even after intervention ( P = 0.36 ) .Multiple regression analysis showed that gender , age , education level , chronic disease status and self-evaluated psychological conditions were important factors affecting health knowledge score , BMI , and waist-to-hip ratio .Community-based health management improved both subjective grading health indices , objective health indices and decreased the number of outpatient clinic visits , demonstrating effectiveness in improving elderly health .ChiCTR-OCH-11001716 .\"\n",
            "}\n",
            "time for retreive by inverted index: 0.05472421646118164\n",
            "\n",
            " linear scan\n",
            "{'id': '26077436', 'contents': 'Topical formulations of nonsteroidal anti-inflammatory drugs ( NSAIDs ) are generally considered to be safer alternatives to oral NSAIDs due to lower systemic absorption .We conducted randomized , crossover studies that compared the pharmacokinetics ( PK ) , bioequivalence and safety of topical diclofenac sodium 2 % twice daily ( BID ) , diclofenac sodium 1.5 % four times daily ( QID ) and oral diclofenac sodium in healthy subjects .The results of three bioequivalence studies are reviewed .Healthy adult subjects ( n = 76 ) applied topical diclofenac sodium 2 % solution ( 40.4 mg/2 mL ) BID ; or 1.5 % solution ( 19.3 mg/40 drops ) QID to each knee for 7.5 consecutive days separated by a washout period .Subjects ( n = 22 ) in one study also received oral diclofenac sodium 75 mg BID for 7.5 days .Plasma diclofenac concentrations were determined from serial blood samples collected on Days 1 and 8 ( steady state ) , and diclofenac PK parameters were estimated by noncompartmental methods .The studies demonstrated comparable bioequivalence between the 2 % and 1.5 % topical solutions as well as lower systemic exposure compared to oral dosing ( approximately 93 % less ) .Daily systemic exposure was comparable between the two formulations with only a 12 % difference in the AUCss ( 0-24 ) ( p = 0.140 ) .Furthermore , both topical solutions demonstrated delayed elimination with a t ( 1/2 ) of 4 - to 6-fold longer , as compared to oral diclofenac .The 2 % solution provided more consistent dosing relative to the 1.5 % solution when comparing AUCss ( 0-24 ) and Cmaxss across studies .Mild application site reactions were the most common treatment-emergent adverse event reported with topical diclofenac .The steady-state PK profile of topical diclofenac 2 % solution administered BID is similar to that of the 1.5 % solution administered QID .Systemic exposure to diclofenac is substantially lower after topical application as compared to oral administration .( Study 2 was registered with ClinicalTrials.gov ; NCT01202799 ; https://clinicaltrials.gov/ct2/results?term=01202799&Search=Search ) .'}\n",
            "{'id': '11467142', 'contents': 'Post-exposure prophylaxis for rabies with cell culture vaccines by the conventional intramuscular regimen is very expensive .The World Health Organization has advocated two cost-effective intradermal regimens with cell culture vaccines for use in developing countries .We evaluated these two regimens -- the 2-site and the 8-site regimens -- in terms of immunogenicity , safety and tolerance in people with category I exposure to rabies .Eighty-two subjects who had mild category I exposure to rabies were immunized using a purified chick embryo cell vaccine .The first regimen given to 43 subjects , consisted of intradermal administration of 0.2 ml of vaccine at 2 sites on days 0 , 3 and 7 and at one site on days 28 and 90 .The second regimen , given to 39 subjects , consisted of intradermal administration of 0.1 ml of vaccine at 8 sites on day 0 , at 4 sites on day 7 and at one site on days 28 and 90 .The mouse neutralization test was used to estimate titres of rabies neutralizing antibody in these subjects on different days after vaccination .The subjects were followed up for 1 year .Both regimens produced adequate neutralizing antibody titres from day 14 onwards , though the second regimen produced a more rapid antibody response and significantly higher titres ( p < 0.001 ) on all days tested .There were minimal side-effects and both regimens were well tolerated .Both the 2-site and 8-site intradermal regimens with purified chick embryo cell vaccine produce adequate levels of neutralizing antibodies but the 8-site regimen appears to be more immunogenic .The feasibility of using these cost-effective regimens in routine practice needs to be further evaluated under the field conditions prevalent in India .'}\n",
            "{'id': '16540546', 'contents': \"To estimate minimally important differences ( MIDs ) in scores for the modified Rodnan Skin Score ( mRSS ) and Health Assessment Questionnaire-Disability Index ( HAQ-DI ) in a clinical trial on diffuse systemic sclerosis ( SSc ) .134 people participated in a 2-year , double-blind , randomised clinical trial comparing efficacy of low-dose and high-dose D-penicillamine in diffuse SSc .At 6 , 12 , 18 and 24 months , the investigator was asked to rate the change in the patient 's health since entering the study : markedly worsened , moderately worsened , slightly worsened , unchanged , slightly improved , moderately improved or markedly improved .Patients who were rated as slightly improved were defined as the minimally changed subgroup and compared with patients rated as moderately or markedly improved .The MID estimates for the mRSS improvement ranged from 3.2 to 5.3 ( 0.40-0 .66 effect size ) and for the HAQ-DI from 0.10 to 0.14 ( 0.15-0 .21 effect size ) .Patients who were rated to improve more than slightly were found to improve by 6.9-14 .2 ( 0.86-1 .77 effect size ) on the mRSS and 0.21-0 .55 ( 0.32-0 .83 effect size ) on the HAQ-DI score .MID estimates are provided for improvement in the mRSS and HAQ-DI scores , which can help in interpreting clinical trials on patients with SSc and be used for sample size calculation for future clinical trials on diffuse SSc .\"}\n",
            "{'id': '22367233', 'contents': 'To investigate the feasibility of implementing a Sleep Education Program ( SEP ) for improving sleep in adult family home ( AFH ) residents with dementia , and the relative efficacy of SEP compared with usual care control in a pilot randomized controlled trial .Thirty-seven AFH staff-caregivers and 47 residents with comorbid dementia and sleep disturbances .SEP consisted of four training sessions with staff-caregivers to develop and implement individualized resident behavioral sleep plans .Treatment fidelity to the SEP was assessed following the National Institutes of Health ( NIH ) Behavior Change Consortium model utilizing trainer observations and staff-caregiver reports .Resident sleep was assessed by wrist actigraphy at baseline , 1-month posttreatment , and 6-month follow-up .Caregiver reports of resident daytime sleepiness , depression , and disruptive behaviors were also collected .Each key area of treatment fidelity ( SEP delivery , receipt , enactment ) was identified , measured , and yielded significant outcomes .Staff-caregivers learned how to identify sleep scheduling , daily activity , and environmental factors that could contribute to nocturnal disturbances and developed and implemented strategies for modifying these factors .SEP decreased the frequency and disturbance level of target resident nocturnal behaviors and improved actigraphically measured sleep percent and total sleep time over the 6-month follow-up period compared with the control condition .Results suggest behavioral interventions to improve sleep are feasible to implement in adult family homes and merit further investigation as a promising intervention for use with AFH residents with dementia .'}\n",
            "{'id': '10401802', 'contents': 'To assess differences through grade 8 in diet , physical activity , and related health indicators of students who participated in the Child and Adolescent Trial for Cardiovascular Health ( CATCH ) school and family intervention from grades 3 through 5 .Follow-up of the 4-center , randomized , controlled field trial with 56 intervention and 40 control elementary schools .We studied 3714 ( 73 % ) of the initial CATCH cohort of 5106 students from ethnically diverse backgrounds in California , Louisiana , Minnesota , and Texas at grades 6 , 7 , and 8 .Self-reported daily energy intake from fat at baseline was virtually identical in the control ( 32.7 % ) and intervention ( 32.6 % ) groups .At grade 5 , the intake for controls remained at 32.2 % , while the intake for the intervention group declined to 30.3 % ( P < .001 ) .At grade 8 , the between-group differential was maintained ( 31.6 % vs 30.6 % , P = .01 ) .Intervention students maintained significantly higher self-reported daily vigorous activity than control students ( P = .001 ) , although the difference declined from 13.6 minutes in grade 5 to 11.2 , 10.8 , and 8.8 minutes in grades 6 , 7 , and 8 , respectively .Significant differences in favor of the intervention students also persisted at grade 8 for dietary knowledge and dietary intentions , but not for social support for physical activity .No impact on smoking behavior or stages of contemplating smoking was detected at grade 8 .No significant differences were noted among physiologic indicators of body mass index , blood pressure , or serum lipid and cholesterol levels .The original CATCH results demonstrated that school-level interventions could modify school lunch and school physical education programs as well as influence student behaviors .This 3-year follow-up without further intervention suggests that the behavioral changes initiated during the elementary school years persisted to early adolescence for self-reported dietary and physical activity behaviors .'}\n",
            "{'id': '17626912', 'contents': 'Several occupational exposures adversely affect lung function .This study reports the influence of continued occupational dust and fume exposures on the rate of decline of lung function in participants with early chronic obstructive pulmonary disease ( COPD ) studied in a population-based study .Subjects consisted of 5,724 participants in the Lung Health Study , a multicenter study of smoking cessation and anticholinergic bronchodilator administration in smokers with early COPD ( 3,592 men ; 2,132 women ) .Average post-bronchodilator FEV1 at entry was 78.4 % predicted for men and 78.2 % predicted for women ; all participants had an FEV1/FVC ratio less than 0.70 .Participants underwent a baseline evaluation and five annual follow-up assessments , including questionnaires and spirometry .The effect of ongoing dust or fume exposure on FEV1 in each follow-up year was statistically evaluated with a mixed-effects regression model , which was adjusted for FEV1 at entry , age , airway responsiveness to methacholine , baseline smoking intensity , and time-varying ( yearly ) smoking status during each follow-up year .In men with early COPD , each year of continued fume exposure was associated with a 0.25 % predicted reduction in post-bronchodilator FEV1 % predicted .Continued smoking and airway hyperresponsiveness were also associated with reduction in FEV1 during each year of follow-up in both men and women .Statistically significant effects of dust exposure on the rate of decline were not found , nor were effects of fume exposure noted in women .These results suggest a need for secondary prevention by controlling occupational fume exposures .'}\n",
            "{'id': '25901427', 'contents': 'Alcoholic hepatitis is a clinical syndrome characterized by jaundice and liver impairment that occurs in patients with a history of heavy and prolonged alcohol use .The short-term mortality among patients with severe disease exceeds 30 % .Prednisolone and pentoxifylline are both recommended for the treatment of severe alcoholic hepatitis , but uncertainty about their benefit persists .We conducted a multicenter , double-blind , randomized trial with a 2-by-2 factorial design to evaluate the effect of treatment with prednisolone or pentoxifylline .The primary end point was mortality at 28 days .Secondary end points included death or liver transplantation at 90 days and at 1 year .Patients with a clinical diagnosis of alcoholic hepatitis and severe disease were randomly assigned to one of four groups : a group that received a pentoxifylline-matched placebo and a prednisolone-matched placebo , a group that received prednisolone and a pentoxifylline-matched placebo , a group that received pentoxifylline and a prednisolone-matched placebo , or a group that received both prednisolone and pentoxifylline .A total of 1103 patients underwent randomization , and data from 1053 were available for the primary end-point analysis .Mortality at 28 days was 17 % ( 45 of 269 patients ) in the placebo-placebo group , 14 % ( 38 of 266 patients ) in the prednisolone-placebo group , 19 % ( 50 of 258 patients ) in the pentoxifylline-placebo group , and 13 % ( 35 of 260 patients ) in the prednisolone-pentoxifylline group .The odds ratio for 28-day mortality with pentoxifylline was 1.07 ( 95 % confidence interval [ CI ] , 0.77 to 1.49 ; P = 0.69 ) , and that with prednisolone was 0.72 ( 95 % CI , 0.52 to 1.01 ; P = 0.06 ) .At 90 days and at 1 year , there were no significant between-group differences .Serious infections occurred in 13 % of the patients treated with prednisolone versus 7 % of those who did not receive prednisolone ( P = 0.002 ) .Pentoxifylline did not improve survival in patients with alcoholic hepatitis .Prednisolone was associated with a reduction in 28-day mortality that did not reach significance and with no improvement in outcomes at 90 days or 1 year .( Funded by the National Institute for Health Research Health Technology Assessment program ; STOPAH EudraCT number , 2009-013897-42 , and Current Controlled Trials number , ISRCTN88782125 ) .'}\n",
            "{'id': '25238728', 'contents': \"Prior analysis in the Open vs Endovascular Repair Veterans Affairs ( VA ) Cooperative Study ( CSP # 498 ) demonstrated that survival , quality of life , and total health care costs are not significantly different between the open and endovascular methods of repair of abdominal aortic aneurysm .The device is a major cost of this method of repair , and the objective of this study was to evaluate the costs of the device , abdominal aortic aneurysm repair , and total health care costs when different endograft systems are selected for the endovascular repair ( EVR ) .Within each selected system , EVR costs are compared with open repair costs .The study randomized 881 patients to open ( n = 437 ) or EVR ( n = 444 ) .Device selection was recorded before randomization ; therefore , open repair controls were matched to each device cohort .Data were excluded for two low-volume devices , implanted in only 13 individuals , leaving 423 control and 431 endovascular patients : 166 Zenith ( Cook Medical , Bloomington , Ind ) , 177 Excluder ( W. L. Gore & Associates , Flagstaff , Ariz ) , and 88 AneuRx ( Medtronic , Minneapolis , Minn ) .Mean device , hospitalization , and total health care costs from randomization to 2 years were compared .Health care utilization data were obtained from patients and national VA and Medicare data sources .VA costs were determined using methods previously developed by the VA Health Economics Resource Center .Non-VA costs were obtained from Medicare claims data and billing data from the patient 's health care providers .Implant costs were 38 % of initial hospitalization costs .Mean device ( range , $ 13,600 - $ 14,400 ) , initial hospitalization ( range , $ 34,800 - $ 38,900 ) , and total health care costs at 2 years in the endovascular ( range , $ 72,400 - $ 78,200 ) and open repair groups ( range , $ 75,600 - $ 82,100 ) were not significantly different among device systems .Differences between endovascular and corresponding open repair cohorts showed lower mean costs for EVR ( range , $ 3200 - $ 8300 ) , but these were not statistically different .The implant costs of endovascular aneurysm repair are substantial .When evaluating total health care system expenditures , there is large individual variability in costs , and there is no significant difference at 2 years among systems or when an individual system is compared with open repair .\"}\n",
            "{'id': '25882764', 'contents': 'Infections caused by carbapenemase-producing Enterobacteriaceae are increasing worldwide , especially in ICUs , and have been associated with high mortality rates .However , unequivocally demonstrating causality of such infections to death is difficult in critically ill patients because of potential confounding and competing events .Here , we quantified the effects of carbapenemase-producing Enterobacteriaceae carriage on patient outcome in two Greek ICUs with carbapenemase-producing Enterobacteriaceae endemicity .Observational cohort study .Two ICUs with carbapenemase-producing Enterobacteriaceae endemicity .Patients admitted to the ICU with an expected length of ICU stay of at least 3 days were included .None .Carbapenemase-producing Enterobacteriaceae colonization was established through screening in perineum swabs obtained at admission and twice weekly and inoculated on chromogenic plates .Detection of carbapenemases was performed phenotypically , with confirmation by polymerase chain reaction .Risk factors for ICU mortality were evaluated using cause-specific hazard ratios and subdistribution hazard ratios , with carbapenemase-producing Enterobacteriaceae colonization as time-varying covariate .One thousand seven patients were included , 36 ( 3.6 % ) were colonized at admission , and 96 ( 9.5 % ) acquired carbapenemase-producing Enterobacteriaceae colonization during ICU stay , and 301 ( 29.9 % ) died in ICU .Of 132 carbapenemase-producing Enterobacteriaceae isolates , 125 ( 94.7 % ) were Klebsiella pneumoniae and 74 harbored K. pneumoniae carbapenemase ( 56.1 % ) , 54 metallo -- lactamase ( 40.9 % ) , and four both ( 3.0 % ) .Carbapenemase-producing Enterobacteriaceae colonization was associated with a statistically significant increase of the subdistribution hazard ratio for ICU mortality ( subdistribution hazard ratio = 1.79 ; 95 % CI , 1.31-2 .43 ) , not explained by an increased daily hazard of dying ( cause-specific hazard ratio for death = 1.02 ; 95 % CI , 0.74-1 .41 ) , but by an increased length of stay ( cause-specific hazard ratio for discharge alive = 0.73 ; 95 % CI , 0.51-0 .94 ) .Other risk factors in the subdistribution hazard model were Acute Physiology and Chronic Health Evaluation II score ( subdistribution hazard ratio = 1.13 ; 95 % CI , 1.11-1 .15 ) , female gender ( subdistribution hazard ratio = 1.29 ; 95 % CI , 1.02-1 .62 ) , presence of solid tumor ( subdistribution hazard ratio = 1.54 ; 95 % CI , 1.15-2 .06 ) , hematopoietic malignancy ( subdistribution hazard ratio = 1.61 ; 95 % CI , 1.04-2 .51 ) , and immunodeficiency ( subdistribution hazard ratio = 1.59 ; 95 % CI , 1.11-2 .27 ) .Patients colonized with carbapenemase-producing Enterobacteriaceae have on average a 1.79 times higher hazard of dying in ICU than noncolonized patients , primarily because of an increased length of stay .'}\n",
            "{'id': '10845748', 'contents': 'This study describes baseline and Year 1 predictors of abstinence from smoking for the 3,523 intervention participants who had complete annual 5-year follow-up data in the Lung Health Study ( LHS ) .The LHS enrolled 5,887 smokers , aged 35 to 60 years , of whom 3,923 were offered a cessation intervention .Of these , 22 % achieved biochemically verified abstinence for 5 years .Logistic regressions were performed .The first outcome variable was abstinence from smoking at 1 year .Then for those who were quit at 1 year , the outcome variable was 5 years of sustained abstinence .All participants who were not using nicotine gum after 1 year in the study were more likely to sustain cessation over 5 years than were gum users at year 1 ( OR ranged from 0.31 to 0.44 for four age - and sex-specific groups ) .Baseline number of previous quit attempts was negatively associated with 5-year quitting success among younger and older men ( OR = 0.82 and 0.83 ) .Older participants who were less likely to associate smoking with emotional coping had higher abstinence rates at 5 years of follow-up ( OR = 0.89 and 0.84 ) .Different mechanisms may be responsible for achieving cessation in age/gender groups .These results have implications for planning successful interventions .'}\n",
            "time for linear scan: 1.8189845085144043\n"
          ]
        }
      ]
    },
    {
      "cell_type": "code",
      "source": [
        "keyword=[\"cancer\", \"Sternutate\", \"Health\", \"Borborygmus\", \"Heart\", \"Lungs\"]\n",
        "file=\"./tests/data.json\"\n",
        "index=\"indexes/sample_collection_jsonl\"\n",
        "\n",
        "for k in keyword:\n",
        "  print(k)\n",
        "  pyserini_search_time(k, index)\n",
        "  linear_scan_time(k, file)"
      ],
      "metadata": {
        "id": "OX0KcDvRnAHa",
        "colab": {
          "base_uri": "https://localhost:8080/"
        },
        "outputId": "5d40e496-b2d8-4a7b-957a-7102e76a4a9f"
      },
      "execution_count": null,
      "outputs": [
        {
          "output_type": "stream",
          "name": "stdout",
          "text": [
            "cancer\n",
            "time for retreive by inverted index: 0.022631168365478516\n",
            "time for linear scan: 1.3966994285583496\n",
            "Sternutate\n",
            "time for retreive by inverted index: 0.0076601505279541016\n",
            "time for linear scan: 1.2453351020812988\n",
            "Health\n",
            "time for retreive by inverted index: 0.01663517951965332\n",
            "time for linear scan: 1.2330589294433594\n",
            "Borborygmus\n",
            "time for retreive by inverted index: 0.014273643493652344\n",
            "time for linear scan: 1.9483911991119385\n",
            "Heart\n",
            "time for retreive by inverted index: 0.014687538146972656\n",
            "time for linear scan: 2.282092332839966\n",
            "Lungs\n",
            "time for retreive by inverted index: 0.01993393898010254\n",
            "time for linear scan: 1.2030487060546875\n"
          ]
        }
      ]
    }
  ]
}